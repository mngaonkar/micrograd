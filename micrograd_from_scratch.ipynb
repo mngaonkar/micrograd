{
 "cells": [
  {
   "cell_type": "code",
   "execution_count": 1262,
   "id": "7b5e86a9",
   "metadata": {},
   "outputs": [],
   "source": [
    "import math\n",
    "import numpy as np\n",
    "import matplotlib.pyplot as plt\n",
    "%matplotlib inline\n",
    "from graphviz import Digraph\n",
    "import os\n",
    "from IPython import display\n",
    "import logging"
   ]
  },
  {
   "cell_type": "code",
   "execution_count": 1263,
   "id": "d5629e23",
   "metadata": {},
   "outputs": [],
   "source": [
    "logger = logging.getLogger(__name__)\n",
    "logging.basicConfig(level=logging.ERROR, format='%(asctime)s - %(name)s - %(levelname)s - %(message)s')"
   ]
  },
  {
   "cell_type": "code",
   "execution_count": 1264,
   "id": "84ab2aa8",
   "metadata": {},
   "outputs": [],
   "source": [
    "# Required for Jupyter Notebook to find the graphviz executables\n",
    "os.environ[\"PATH\"] += os.pathsep + os.path.abspath(\"/opt/homebrew/bin/\")"
   ]
  },
  {
   "cell_type": "code",
   "execution_count": 1265,
   "id": "4eba97f6",
   "metadata": {},
   "outputs": [],
   "source": [
    "# Sample function for gradient calculation\n",
    "def f(x):\n",
    "    return 3*x**2 - 4*x + 5"
   ]
  },
  {
   "cell_type": "code",
   "execution_count": 1266,
   "id": "3fbd74c4",
   "metadata": {},
   "outputs": [
    {
     "data": {
      "image/png": "[encoded data removed]",
      "text/plain": [
       "<Figure size 640x480 with 1 Axes>"
      ]
     },
     "metadata": {},
     "output_type": "display_data"
    }
   ],
   "source": [
    "xs = np.arange(-10, 10, 0.5)\n",
    "ys = f(xs)\n",
    "plt.plot(xs, ys)\n",
    "plt.show()"
   ]
  },
  {
   "cell_type": "code",
   "execution_count": 1267,
   "id": "08cde3ad",
   "metadata": {},
   "outputs": [],
   "source": [
    "h = 0.000001"
   ]
  },
  {
   "cell_type": "code",
   "execution_count": 1268,
   "id": "71c90bcd",
   "metadata": {},
   "outputs": [],
   "source": [
    "a = 3\n",
    "b = -2\n",
    "c = 1\n",
    "d1 = a*b + c"
   ]
  },
  {
   "cell_type": "code",
   "execution_count": 1269,
   "id": "4e7752bb",
   "metadata": {},
   "outputs": [],
   "source": [
    "c = c + h\n",
    "d2 = a*b + c"
   ]
  },
  {
   "cell_type": "code",
   "execution_count": 1270,
   "id": "c7b273b4",
   "metadata": {},
   "outputs": [
    {
     "name": "stdout",
     "output_type": "stream",
     "text": [
      "d1 =  -5\n",
      "d2 =  -4.999999\n",
      "dc_dy =  1.000000000139778\n"
     ]
    }
   ],
   "source": [
    "print(\"d1 = \", d1)\n",
    "print(\"d2 = \", d2)\n",
    "print(\"dc_dy = \", (d2 - d1) / h)"
   ]
  },
  {
   "cell_type": "code",
   "execution_count": 1271,
   "id": "68d78e61",
   "metadata": {},
   "outputs": [
    {
     "name": "stdout",
     "output_type": "stream",
     "text": [
      "d1 =  -5\n",
      "d2 =  -5.000002\n",
      "da_dy =  -2.000000000279556\n"
     ]
    }
   ],
   "source": [
    "a = 3; b = -2; c = 1\n",
    "d1 = a*b + c\n",
    "a = a + h\n",
    "d2 = a*b + c\n",
    "print(\"d1 = \", d1)\n",
    "print(\"d2 = \", d2)\n",
    "print(\"da_dy = \", (d2 - d1) / h)"
   ]
  },
  {
   "cell_type": "code",
   "execution_count": 1272,
   "id": "49ed6158",
   "metadata": {},
   "outputs": [
    {
     "name": "stdout",
     "output_type": "stream",
     "text": [
      "d1 =  -5\n",
      "d2 =  -4.9999970000000005\n",
      "db_dy =  2.9999999995311555\n"
     ]
    }
   ],
   "source": [
    "a = 3; b = -2; c = 1\n",
    "d1 = a*b + c\n",
    "b = b + h\n",
    "d2 = a*b + c\n",
    "print(\"d1 = \", d1)\n",
    "print(\"d2 = \", d2)\n",
    "print(\"db_dy = \", (d2 - d1) / h)"
   ]
  },
  {
   "cell_type": "code",
   "execution_count": 1273,
   "id": "c4f10ed7",
   "metadata": {},
   "outputs": [
    {
     "name": "stdout",
     "output_type": "stream",
     "text": [
      "d1 =  -5\n",
      "d2 =  -4.999999\n",
      "dab_dy =  1.000000000139778\n"
     ]
    }
   ],
   "source": [
    "a = 3; b = -2; c = 1\n",
    "d1 = a*b + c\n",
    "d2 = a*b + h + c\n",
    "print(\"d1 = \", d1)\n",
    "print(\"d2 = \", d2)\n",
    "print(\"dab_dy = \", (d2 - d1) / h)"
   ]
  },
  {
   "cell_type": "code",
   "execution_count": 1274,
   "id": "e5c68b90",
   "metadata": {},
   "outputs": [],
   "source": [
    "class Value():\n",
    "    \"\"\" Basic class to represent a scale value with arithmeti operations and gradients. \"\"\"\n",
    "    def __init__(self, data, _children=(), _op = '', grad=0.0, label=\"\"):\n",
    "        self.data = data\n",
    "        self._prev = _children\n",
    "        self._op = _op\n",
    "        self.label = label\n",
    "        self.grad = 0.0  # Gradient initialized to zero\n",
    "    \n",
    "    def __repr__(self):\n",
    "        return f\"Value(data={self.data})\"\n",
    "    \n",
    "    def __add__(self, other):\n",
    "        if isinstance(other, Value):\n",
    "            return Value(self.data + other.data, _children=(self, other), _op='+')\n",
    "        else:\n",
    "            raise ValueError(\"Can only add Value to Value\")\n",
    "    \n",
    "    def __mul__(self, other):\n",
    "        if isinstance(other, Value):\n",
    "            return Value(self.data * other.data, _children=(self, other), _op='*')\n",
    "        else:\n",
    "            raise ValueError(\"Can only multiply Value to Value\")\n",
    "        \n",
    "    def tanh(self):\n",
    "        return Value((np.exp(self.data*2) - 1)/(np.exp(self.data*2) + 1), _op='tanh', _children=(self,))"
   ]
  },
  {
   "cell_type": "code",
   "execution_count": 1275,
   "id": "077e5615",
   "metadata": {},
   "outputs": [
    {
     "name": "stdout",
     "output_type": "stream",
     "text": [
      "d._prev = (Value(data=-6), Value(data=1)) d = -5\n"
     ]
    }
   ],
   "source": [
    "a = Value(3, label=\"a\")\n",
    "b = Value(-2, label=\"b\")\n",
    "c = Value(1, label=\"c\")\n",
    "d = a*b + c; d.label = \"d\"\n",
    "print(f\"d._prev = {d._prev} d = {d.data}\")"
   ]
  },
  {
   "cell_type": "code",
   "execution_count": 1278,
   "id": "db81115f",
   "metadata": {},
   "outputs": [],
   "source": [
    "def draw_graph(root):\n",
    "    \"\"\" Vibe codded and it works! \"\"\"\n",
    "    # Initialize a directed graph\n",
    "    dot = Digraph(format='png', graph_attr={'rankdir': 'LR'})  # Left-to-right layout\n",
    "    \n",
    "    def build_graph(node, visited=None):\n",
    "        if visited is None:\n",
    "            visited = set()\n",
    "        \n",
    "        # Skip if node already visited to avoid cycles\n",
    "        if id(node) in visited:\n",
    "            return\n",
    "        visited.add(id(node))\n",
    "        \n",
    "        # Add node to the graph\n",
    "        node_id = str(id(node))\n",
    "        dot.node(node_id, f\"{{ {node.label} | data = {node.data} grad={node.grad} }}\", shape='record')\n",
    "        \n",
    "        # If node has an operation, create an operation node\n",
    "        if node._op:\n",
    "            op_id = f\"{node_id}_op\"\n",
    "            dot.node(op_id, node._op, shape='circle')\n",
    "            dot.edge(op_id, node_id)  # Edge from operation to result\n",
    "        \n",
    "            # Recursively process children\n",
    "            for child in node._prev:\n",
    "                child_id = str(id(child))\n",
    "                build_graph(child, visited)\n",
    "                dot.edge(child_id, op_id)  # Edge from child to operation\n",
    "    \n",
    "    # Build the graph starting from the root\n",
    "    build_graph(root)\n",
    "    \n",
    "    # Render and display the graph\n",
    "    dot.render('computation_graph', view=True, cleanup=True)\n",
    "    \n",
    "    return dot\n"
   ]
  },
  {
   "cell_type": "code",
   "execution_count": 1279,
   "id": "84c181f8",
   "metadata": {},
   "outputs": [],
   "source": [
    "# draw_graph(d)"
   ]
  },
  {
   "cell_type": "code",
   "execution_count": 1280,
   "id": "98dd4bec",
   "metadata": {},
   "outputs": [],
   "source": [
    "# Forward pass for neural network with one neuron\n",
    "# Inputs: x1, x2; Weights: w1, w2; Bias: b; Output: y\n",
    "\n",
    "x1 = Value(2, label=\"x1\")\n",
    "x2 = Value(3, label=\"x2\")\n",
    "w1 = Value(0.5, label=\"w1\")\n",
    "w2 = Value(-1.5, label=\"w2\")\n",
    "b = Value(1, label=\"b\")\n",
    "x1w1 = x1 * w1; x1w1.label = \"x1w1\"\n",
    "x2w2 = x2 * w2; x2w2.label = \"x2w2\"\n",
    "x1w1_x2w2 = x1w1 + x2w2; x1w1_x2w2.label = \"x1w1_x2w2\"\n",
    "y = x1w1_x2w2 + b; y.label = \"y\"\n",
    "o = y.tanh(); o.label = \"o\""
   ]
  },
  {
   "cell_type": "code",
   "execution_count": 1281,
   "id": "68ed37c5",
   "metadata": {},
   "outputs": [
    {
     "name": "stdout",
     "output_type": "stream",
     "text": [
      "o = -0.9866142981514304\n"
     ]
    }
   ],
   "source": [
    "print(f\"o = {o.data}\")"
   ]
  },
  {
   "cell_type": "code",
   "execution_count": 1284,
   "id": "ec8210b2",
   "metadata": {},
   "outputs": [],
   "source": [
    "# draw_graph(o)"
   ]
  },
  {
   "cell_type": "code",
   "execution_count": 1285,
   "id": "70612029",
   "metadata": {},
   "outputs": [],
   "source": [
    "# Backpropagation\n",
    "o.grad = 1.0  # Set the gradient of the output to 1.0"
   ]
  },
  {
   "cell_type": "code",
   "execution_count": 1286,
   "id": "daba22b3",
   "metadata": {},
   "outputs": [],
   "source": [
    "# draw_graph(o)"
   ]
  },
  {
   "cell_type": "code",
   "execution_count": 1287,
   "id": "922f3c0f",
   "metadata": {},
   "outputs": [],
   "source": [
    "do_dn = 1 - math.tanh(o.data)**2\n",
    "y.grad = do_dn"
   ]
  },
  {
   "cell_type": "code",
   "execution_count": 1288,
   "id": "72a71420",
   "metadata": {},
   "outputs": [],
   "source": [
    "# draw_graph(o)"
   ]
  },
  {
   "cell_type": "code",
   "execution_count": 1289,
   "id": "2a71919c",
   "metadata": {},
   "outputs": [],
   "source": [
    "x1w1_x2w2.grad = y.grad\n",
    "b.grad = y.grad\n",
    "x1w1.grad = x1w1_x2w2.grad\n",
    "x2w2.grad = x1w1_x2w2.grad\n",
    "\n",
    "# draw_graph(o)"
   ]
  },
  {
   "cell_type": "code",
   "execution_count": 1290,
   "id": "ef9473d6",
   "metadata": {},
   "outputs": [],
   "source": [
    "x1.grad = x1w1.grad * w1.data\n",
    "x2.grad = x2w2.grad * w2.data\n",
    "w1.grad = x1w1.grad * x1.data\n",
    "w2.grad = x2w2.grad * x2.data\n",
    "\n",
    "# draw_graph(o)"
   ]
  },
  {
   "cell_type": "code",
   "execution_count": 1300,
   "id": "d7edad4e",
   "metadata": {},
   "outputs": [],
   "source": [
    "# Implement generic backpropagation\n",
    "class Value():\n",
    "    \"\"\" Complete class with backprop to represent a scale value with arithmeti operations and gradients. \"\"\"\n",
    "    def __init__(self, data, _children=(), _op = '', grad=0.0, label=\"\"):\n",
    "        self.data = data\n",
    "        self._prev = _children\n",
    "        self._op = _op\n",
    "        self.label = label\n",
    "        self.grad = 0.0  # Gradient initialized to zero\n",
    "\n",
    "    def backward(self, root_node, visited=None):\n",
    "        visited.add(self)\n",
    "        logger.debug(f\"node.data = {self.data}\")\n",
    "        self._backward()  # Compute the gradient for childeren of this node\n",
    "        for item in self._prev:\n",
    "            if item not in visited:\n",
    "                item.backward(root_node, visited)\n",
    "\n",
    "    def _backward(self):\n",
    "        \"\"\" Perform backpropagation to compute gradients. \"\"\"\n",
    "        logger.debug(f\"Backward pass for node: {self.label}, op: {self._op}, data: {self.data}, grad: {self.grad}\")\n",
    "        # For addition operation, local gradient is 1 for each child hence gradient of the child with respect\n",
    "        # to the output is 1 * self gradient.\n",
    "        # Note, we need to accumulate gradients for each child and not simply overwrite them.\n",
    "        if self._op == '+':\n",
    "            for child in self._prev:\n",
    "                child.grad += self.grad\n",
    "\n",
    "        # For multiplication operation, local gradient is the value of the other child hence\n",
    "        # gradient of the child with respect to the output is self.grad * other child's value.\n",
    "        elif self._op == '*':\n",
    "            self._prev[0].grad = self.grad * self._prev[1].data\n",
    "            self._prev[1].grad = self.grad * self._prev[0].data\n",
    "\n",
    "        elif self._op == '/':\n",
    "            # For division operation, local gradient is 1 / other child's value hence\n",
    "            # gradient of the child with respect to the output is self.grad * (1 / other child's value).\n",
    "            self._prev[0].grad = self.grad / self._prev[1].data\n",
    "            self._prev[1].grad = -self.grad * (self._prev[0].data / (self._prev[1].data ** 2))\n",
    "\n",
    "        # For power operation, local gradient is power * base^(power-1) hence\n",
    "        # gradient of the child with respect to the output is self.grad * local gradient.\n",
    "        elif self._op == '**':\n",
    "            power = self._prev[0].data\n",
    "            base = self.data\n",
    "            self._prev[0].grad = self.grad * power * (base ** (power - 1))\n",
    "\n",
    "        # For subtraction operation, local gradient is 1 for the first child and -1 for the second child\n",
    "        # hence gradient of the first child with respect to the output is self.grad * 1 and for the second child\n",
    "        # it is self.grad * -1.\n",
    "        elif self._op == '-':\n",
    "            self._prev[0].grad = self.grad  # First child\n",
    "            self._prev[1].grad = -self.grad  # Second child\n",
    "\n",
    "        # For tanh operation, local gradient is 1 - tanh^2(self.data) hence\n",
    "        # gradient of the child with respect to the output is self.grad * local gradient.\n",
    "        elif self._op == 'tanh':\n",
    "            logger.debug(f\"tanh: self.data = {self.data}, self.grad = {self.grad}\")\n",
    "            self._prev[0].grad = self.grad * (1 - np.tanh(self._prev[0].data)**2)\n",
    "\n",
    "    def __repr__(self):\n",
    "        return f\"Value(data={self.data})\"\n",
    "    \n",
    "    def __add__(self, other):\n",
    "        if not isinstance(other, Value):\n",
    "            other = Value(other)  # Convert to Value if not already\n",
    "        return Value(self.data + other.data, _children=(self, other), _op='+')\n",
    "\n",
    "    def __radd__(self, other):\n",
    "        if not isinstance(other, Value):\n",
    "            other = Value(other)  # Convert to Value if not already\n",
    "        return Value(self.data + other.data, _children=(self, other), _op='+')\n",
    "    \n",
    "    def __sub__(self, other):\n",
    "        if isinstance(other, Value):\n",
    "            return Value(self.data - other.data, _children=(self, other), _op='-')\n",
    "        else:\n",
    "            raise ValueError(\"Can only subtract Value from Value\")\n",
    "        \n",
    "    def __mul__(self, other):\n",
    "        if isinstance(other, Value):\n",
    "            return Value(self.data * other.data, _children=(self, other), _op='*')\n",
    "        else:\n",
    "            raise ValueError(\"Can only multiply Value to Value\")\n",
    "        \n",
    "    def __truediv__(self, other):\n",
    "        if not isinstance(other, Value):\n",
    "            other = Value(other)  # Convert to Value if not already\n",
    "        return Value(self.data / other.data, _children=(self, other), _op='/')\n",
    "\n",
    "    def __rtruediv__(self, other):\n",
    "        if not isinstance(other, Value):\n",
    "            other = Value(other)  # Convert to Value if not already\n",
    "        return Value(self.data / other.data, _children=(self, other), _op='/')\n",
    "        \n",
    "    def __pow__(self, power):\n",
    "        return Value(self.data ** power, _children=(self,), _op='**')\n",
    "        \n",
    "    def tanh(self):\n",
    "        return Value((np.exp(self.data*2) - 1)/(np.exp(self.data*2) + 1), _op='tanh', _children=(self,))"
   ]
  },
  {
   "cell_type": "code",
   "execution_count": 1301,
   "id": "de7dc407",
   "metadata": {},
   "outputs": [],
   "source": [
    "# Forward pass for neural network with one neuron\n",
    "# Inputs: x1, x2; Weights: w1, w2; Bias: b; Output: y\n",
    "\n",
    "x1 = Value(2, label=\"x1\")\n",
    "x2 = Value(3, label=\"x2\")\n",
    "w1 = Value(0.5, label=\"w1\")\n",
    "w2 = Value(-1.5, label=\"w2\")\n",
    "b = Value(1, label=\"b\")\n",
    "x1w1 = x1 * w1; x1w1.label = \"x1w1\"\n",
    "x2w2 = x2 * w2; x2w2.label = \"x2w2\"\n",
    "x1w1_x2w2 = x1w1 + x2w2; x1w1_x2w2.label = \"x1w1_x2w2\"\n",
    "y = x1w1_x2w2 + b; y.label = \"y\"\n",
    "o = y.tanh(); o.label = \"o\""
   ]
  },
  {
   "cell_type": "code",
   "execution_count": 1302,
   "id": "b1415a32",
   "metadata": {},
   "outputs": [
    {
     "name": "stderr",
     "output_type": "stream",
     "text": [
      "python(19855) MallocStackLogging: can't turn off malloc stack logging because it was not enabled.\n",
      "python(19856) MallocStackLogging: can't turn off malloc stack logging because it was not enabled.\n",
      "python(19857) MallocStackLogging: can't turn off malloc stack logging because it was not enabled.\n"
     ]
    },
    {
     "data": {
      "image/svg+xml": [
       "<?xml version=\"1.0\" encoding=\"UTF-8\" standalone=\"no\"?>\n",
       "<!DOCTYPE svg PUBLIC \"-//W3C//DTD SVG 1.1//EN\"\n",
       " \"http://www.w3.org/Graphics/SVG/1.1/DTD/svg11.dtd\">\n",
       "<!-- Generated by graphviz version 12.2.1 (20241206.2353)\n",
       " -->\n",
       "<!-- Pages: 1 -->\n",
       "<svg width=\"1412pt\" height=\"210pt\"\n",
       " viewBox=\"0.00 0.00 1411.82 210.00\" xmlns=\"http://www.w3.org/2000/svg\" xmlns:xlink=\"http://www.w3.org/1999/xlink\">\n",
       "<g id=\"graph0\" class=\"graph\" transform=\"scale(1 1) rotate(0) translate(4 206)\">\n",
       "<polygon fill=\"white\" stroke=\"none\" points=\"-4,4 -4,-206 1407.82,-206 1407.82,4 -4,4\"/>\n",
       "<!-- 5757488352 -->\n",
       "<g id=\"node1\" class=\"node\">\n",
       "<title>5757488352</title>\n",
       "<polygon fill=\"none\" stroke=\"black\" points=\"1150.57,-54.5 1150.57,-90.5 1403.82,-90.5 1403.82,-54.5 1150.57,-54.5\"/>\n",
       "<text text-anchor=\"middle\" x=\"1161.94\" y=\"-67.7\" font-family=\"Times,serif\" font-size=\"14.00\">o</text>\n",
       "<polyline fill=\"none\" stroke=\"black\" points=\"1173.32,-55 1173.32,-90.5\"/>\n",
       "<text text-anchor=\"middle\" x=\"1288.57\" y=\"-67.7\" font-family=\"Times,serif\" font-size=\"14.00\">data = &#45;0.9866142981514304 grad=0.0</text>\n",
       "</g>\n",
       "<!-- 5757488352_op -->\n",
       "<g id=\"node2\" class=\"node\">\n",
       "<title>5757488352_op</title>\n",
       "<ellipse fill=\"none\" stroke=\"black\" cx=\"1087.78\" cy=\"-72.5\" rx=\"26.78\" ry=\"26.78\"/>\n",
       "<text text-anchor=\"middle\" x=\"1087.78\" y=\"-67.45\" font-family=\"Times,serif\" font-size=\"14.00\">tanh</text>\n",
       "</g>\n",
       "<!-- 5757488352_op&#45;&gt;5757488352 -->\n",
       "<g id=\"edge1\" class=\"edge\">\n",
       "<title>5757488352_op&#45;&gt;5757488352</title>\n",
       "<path fill=\"none\" stroke=\"black\" d=\"M1114.84,-72.5C1121.99,-72.5 1130.27,-72.5 1139.22,-72.5\"/>\n",
       "<polygon fill=\"black\" stroke=\"black\" points=\"1138.93,-76 1148.93,-72.5 1138.93,-69 1138.93,-76\"/>\n",
       "</g>\n",
       "<!-- 5757485232 -->\n",
       "<g id=\"node3\" class=\"node\">\n",
       "<title>5757485232</title>\n",
       "<polygon fill=\"none\" stroke=\"black\" points=\"873,-54.5 873,-90.5 1025,-90.5 1025,-54.5 873,-54.5\"/>\n",
       "<text text-anchor=\"middle\" x=\"884.37\" y=\"-67.7\" font-family=\"Times,serif\" font-size=\"14.00\">y</text>\n",
       "<polyline fill=\"none\" stroke=\"black\" points=\"895.75,-55 895.75,-90.5\"/>\n",
       "<text text-anchor=\"middle\" x=\"960.37\" y=\"-67.7\" font-family=\"Times,serif\" font-size=\"14.00\">data = &#45;2.5 grad=0.0</text>\n",
       "</g>\n",
       "<!-- 5757485232&#45;&gt;5757488352_op -->\n",
       "<g id=\"edge14\" class=\"edge\">\n",
       "<title>5757485232&#45;&gt;5757488352_op</title>\n",
       "<path fill=\"none\" stroke=\"black\" d=\"M1025.19,-72.5C1033.59,-72.5 1041.84,-72.5 1049.45,-72.5\"/>\n",
       "<polygon fill=\"black\" stroke=\"black\" points=\"1049.27,-76 1059.27,-72.5 1049.27,-69 1049.27,-76\"/>\n",
       "</g>\n",
       "<!-- 5757485232_op -->\n",
       "<g id=\"node4\" class=\"node\">\n",
       "<title>5757485232_op</title>\n",
       "<ellipse fill=\"none\" stroke=\"black\" cx=\"819\" cy=\"-72.5\" rx=\"18\" ry=\"18\"/>\n",
       "<text text-anchor=\"middle\" x=\"819\" y=\"-67.45\" font-family=\"Times,serif\" font-size=\"14.00\">+</text>\n",
       "</g>\n",
       "<!-- 5757485232_op&#45;&gt;5757485232 -->\n",
       "<g id=\"edge2\" class=\"edge\">\n",
       "<title>5757485232_op&#45;&gt;5757485232</title>\n",
       "<path fill=\"none\" stroke=\"black\" d=\"M837.26,-72.5C844.05,-72.5 852.39,-72.5 861.41,-72.5\"/>\n",
       "<polygon fill=\"black\" stroke=\"black\" points=\"861.19,-76 871.19,-72.5 861.19,-69 861.19,-76\"/>\n",
       "</g>\n",
       "<!-- 5756841440 -->\n",
       "<g id=\"node5\" class=\"node\">\n",
       "<title>5756841440</title>\n",
       "<polygon fill=\"none\" stroke=\"black\" points=\"553,-82.5 553,-118.5 765,-118.5 765,-82.5 553,-82.5\"/>\n",
       "<text text-anchor=\"middle\" x=\"594.37\" y=\"-95.7\" font-family=\"Times,serif\" font-size=\"14.00\">x1w1_x2w2</text>\n",
       "<polyline fill=\"none\" stroke=\"black\" points=\"635.75,-83 635.75,-118.5\"/>\n",
       "<text text-anchor=\"middle\" x=\"700.37\" y=\"-95.7\" font-family=\"Times,serif\" font-size=\"14.00\">data = &#45;3.5 grad=0.0</text>\n",
       "</g>\n",
       "<!-- 5756841440&#45;&gt;5757485232_op -->\n",
       "<g id=\"edge12\" class=\"edge\">\n",
       "<title>5756841440&#45;&gt;5757485232_op</title>\n",
       "<path fill=\"none\" stroke=\"black\" d=\"M764.07,-82.06C773.47,-80.39 782.35,-78.82 790.08,-77.45\"/>\n",
       "<polygon fill=\"black\" stroke=\"black\" points=\"790.47,-80.93 799.71,-75.74 789.25,-74.04 790.47,-80.93\"/>\n",
       "</g>\n",
       "<!-- 5756841440_op -->\n",
       "<g id=\"node6\" class=\"node\">\n",
       "<title>5756841440_op</title>\n",
       "<ellipse fill=\"none\" stroke=\"black\" cx=\"499\" cy=\"-100.5\" rx=\"18\" ry=\"18\"/>\n",
       "<text text-anchor=\"middle\" x=\"499\" y=\"-95.45\" font-family=\"Times,serif\" font-size=\"14.00\">+</text>\n",
       "</g>\n",
       "<!-- 5756841440_op&#45;&gt;5756841440 -->\n",
       "<g id=\"edge3\" class=\"edge\">\n",
       "<title>5756841440_op&#45;&gt;5756841440</title>\n",
       "<path fill=\"none\" stroke=\"black\" d=\"M517.21,-100.5C523.86,-100.5 532.07,-100.5 541.15,-100.5\"/>\n",
       "<polygon fill=\"black\" stroke=\"black\" points=\"541.1,-104 551.1,-100.5 541.1,-97 541.1,-104\"/>\n",
       "</g>\n",
       "<!-- 5756162016 -->\n",
       "<g id=\"node7\" class=\"node\">\n",
       "<title>5756162016</title>\n",
       "<polygon fill=\"none\" stroke=\"black\" points=\"272,-110.5 272,-146.5 442.75,-146.5 442.75,-110.5 272,-110.5\"/>\n",
       "<text text-anchor=\"middle\" x=\"295\" y=\"-123.7\" font-family=\"Times,serif\" font-size=\"14.00\">x1w1</text>\n",
       "<polyline fill=\"none\" stroke=\"black\" points=\"318,-111 318,-146.5\"/>\n",
       "<text text-anchor=\"middle\" x=\"380.38\" y=\"-123.7\" font-family=\"Times,serif\" font-size=\"14.00\">data = 1.0 grad=0.0</text>\n",
       "</g>\n",
       "<!-- 5756162016&#45;&gt;5756841440_op -->\n",
       "<g id=\"edge7\" class=\"edge\">\n",
       "<title>5756162016&#45;&gt;5756841440_op</title>\n",
       "<path fill=\"none\" stroke=\"black\" d=\"M443.22,-111.49C452.77,-109.57 461.93,-107.73 469.94,-106.13\"/>\n",
       "<polygon fill=\"black\" stroke=\"black\" points=\"470.5,-109.58 479.62,-104.19 469.12,-102.72 470.5,-109.58\"/>\n",
       "</g>\n",
       "<!-- 5756162016_op -->\n",
       "<g id=\"node8\" class=\"node\">\n",
       "<title>5756162016_op</title>\n",
       "<ellipse fill=\"none\" stroke=\"black\" cx=\"215.75\" cy=\"-128.5\" rx=\"18\" ry=\"18\"/>\n",
       "<text text-anchor=\"middle\" x=\"215.75\" y=\"-123.45\" font-family=\"Times,serif\" font-size=\"14.00\">*</text>\n",
       "</g>\n",
       "<!-- 5756162016_op&#45;&gt;5756162016 -->\n",
       "<g id=\"edge4\" class=\"edge\">\n",
       "<title>5756162016_op&#45;&gt;5756162016</title>\n",
       "<path fill=\"none\" stroke=\"black\" d=\"M234.15,-128.5C241.37,-128.5 250.36,-128.5 260.16,-128.5\"/>\n",
       "<polygon fill=\"black\" stroke=\"black\" points=\"260.01,-132 270.01,-128.5 260.01,-125 260.01,-132\"/>\n",
       "</g>\n",
       "<!-- 5749838080 -->\n",
       "<g id=\"node9\" class=\"node\">\n",
       "<title>5749838080</title>\n",
       "<polygon fill=\"none\" stroke=\"black\" points=\"9,-165.5 9,-201.5 152.75,-201.5 152.75,-165.5 9,-165.5\"/>\n",
       "<text text-anchor=\"middle\" x=\"23.75\" y=\"-178.7\" font-family=\"Times,serif\" font-size=\"14.00\">x1</text>\n",
       "<polyline fill=\"none\" stroke=\"black\" points=\"38.5,-166 38.5,-201.5\"/>\n",
       "<text text-anchor=\"middle\" x=\"95.62\" y=\"-178.7\" font-family=\"Times,serif\" font-size=\"14.00\">data = 2 grad=0.0</text>\n",
       "</g>\n",
       "<!-- 5749838080&#45;&gt;5756162016_op -->\n",
       "<g id=\"edge5\" class=\"edge\">\n",
       "<title>5749838080&#45;&gt;5756162016_op</title>\n",
       "<path fill=\"none\" stroke=\"black\" d=\"M139.88,-165.12C147.31,-162.41 154.76,-159.51 161.75,-156.5 171.13,-152.47 181.1,-147.41 189.84,-142.71\"/>\n",
       "<polygon fill=\"black\" stroke=\"black\" points=\"191.36,-145.87 198.43,-137.98 187.99,-139.74 191.36,-145.87\"/>\n",
       "</g>\n",
       "<!-- 5749837216 -->\n",
       "<g id=\"node10\" class=\"node\">\n",
       "<title>5749837216</title>\n",
       "<polygon fill=\"none\" stroke=\"black\" points=\"2.25,-110.5 2.25,-146.5 159.5,-146.5 159.5,-110.5 2.25,-110.5\"/>\n",
       "<text text-anchor=\"middle\" x=\"18.5\" y=\"-123.7\" font-family=\"Times,serif\" font-size=\"14.00\">w1</text>\n",
       "<polyline fill=\"none\" stroke=\"black\" points=\"34.75,-111 34.75,-146.5\"/>\n",
       "<text text-anchor=\"middle\" x=\"97.12\" y=\"-123.7\" font-family=\"Times,serif\" font-size=\"14.00\">data = 0.5 grad=0.0</text>\n",
       "</g>\n",
       "<!-- 5749837216&#45;&gt;5756162016_op -->\n",
       "<g id=\"edge6\" class=\"edge\">\n",
       "<title>5749837216&#45;&gt;5756162016_op</title>\n",
       "<path fill=\"none\" stroke=\"black\" d=\"M159.94,-128.5C169.28,-128.5 178.31,-128.5 186.24,-128.5\"/>\n",
       "<polygon fill=\"black\" stroke=\"black\" points=\"186.2,-132 196.2,-128.5 186.2,-125 186.2,-132\"/>\n",
       "</g>\n",
       "<!-- 5753346464 -->\n",
       "<g id=\"node11\" class=\"node\">\n",
       "<title>5753346464</title>\n",
       "<polygon fill=\"none\" stroke=\"black\" points=\"269.75,-55.5 269.75,-91.5 445,-91.5 445,-55.5 269.75,-55.5\"/>\n",
       "<text text-anchor=\"middle\" x=\"292.75\" y=\"-68.7\" font-family=\"Times,serif\" font-size=\"14.00\">x2w2</text>\n",
       "<polyline fill=\"none\" stroke=\"black\" points=\"315.75,-56 315.75,-91.5\"/>\n",
       "<text text-anchor=\"middle\" x=\"380.38\" y=\"-68.7\" font-family=\"Times,serif\" font-size=\"14.00\">data = &#45;4.5 grad=0.0</text>\n",
       "</g>\n",
       "<!-- 5753346464&#45;&gt;5756841440_op -->\n",
       "<g id=\"edge11\" class=\"edge\">\n",
       "<title>5753346464&#45;&gt;5756841440_op</title>\n",
       "<path fill=\"none\" stroke=\"black\" d=\"M445.21,-90.29C453.99,-91.99 462.38,-93.61 469.79,-95.04\"/>\n",
       "<polygon fill=\"black\" stroke=\"black\" points=\"468.91,-98.44 479.39,-96.9 470.24,-91.57 468.91,-98.44\"/>\n",
       "</g>\n",
       "<!-- 5753346464_op -->\n",
       "<g id=\"node12\" class=\"node\">\n",
       "<title>5753346464_op</title>\n",
       "<ellipse fill=\"none\" stroke=\"black\" cx=\"215.75\" cy=\"-73.5\" rx=\"18\" ry=\"18\"/>\n",
       "<text text-anchor=\"middle\" x=\"215.75\" y=\"-68.45\" font-family=\"Times,serif\" font-size=\"14.00\">*</text>\n",
       "</g>\n",
       "<!-- 5753346464_op&#45;&gt;5753346464 -->\n",
       "<g id=\"edge8\" class=\"edge\">\n",
       "<title>5753346464_op&#45;&gt;5753346464</title>\n",
       "<path fill=\"none\" stroke=\"black\" d=\"M234.15,-73.5C240.86,-73.5 249.08,-73.5 258.06,-73.5\"/>\n",
       "<polygon fill=\"black\" stroke=\"black\" points=\"257.84,-77 267.84,-73.5 257.84,-70 257.84,-77\"/>\n",
       "</g>\n",
       "<!-- 5749841824 -->\n",
       "<g id=\"node13\" class=\"node\">\n",
       "<title>5749841824</title>\n",
       "<polygon fill=\"none\" stroke=\"black\" points=\"9,-55.5 9,-91.5 152.75,-91.5 152.75,-55.5 9,-55.5\"/>\n",
       "<text text-anchor=\"middle\" x=\"23.75\" y=\"-68.7\" font-family=\"Times,serif\" font-size=\"14.00\">x2</text>\n",
       "<polyline fill=\"none\" stroke=\"black\" points=\"38.5,-56 38.5,-91.5\"/>\n",
       "<text text-anchor=\"middle\" x=\"95.62\" y=\"-68.7\" font-family=\"Times,serif\" font-size=\"14.00\">data = 3 grad=0.0</text>\n",
       "</g>\n",
       "<!-- 5749841824&#45;&gt;5753346464_op -->\n",
       "<g id=\"edge9\" class=\"edge\">\n",
       "<title>5749841824&#45;&gt;5753346464_op</title>\n",
       "<path fill=\"none\" stroke=\"black\" d=\"M152.98,-73.5C164.61,-73.5 176.04,-73.5 185.85,-73.5\"/>\n",
       "<polygon fill=\"black\" stroke=\"black\" points=\"185.79,-77 195.79,-73.5 185.79,-70 185.79,-77\"/>\n",
       "</g>\n",
       "<!-- 5749836016 -->\n",
       "<g id=\"node14\" class=\"node\">\n",
       "<title>5749836016</title>\n",
       "<polygon fill=\"none\" stroke=\"black\" points=\"0,-0.5 0,-36.5 161.75,-36.5 161.75,-0.5 0,-0.5\"/>\n",
       "<text text-anchor=\"middle\" x=\"16.25\" y=\"-13.7\" font-family=\"Times,serif\" font-size=\"14.00\">w2</text>\n",
       "<polyline fill=\"none\" stroke=\"black\" points=\"32.5,-1 32.5,-36.5\"/>\n",
       "<text text-anchor=\"middle\" x=\"97.12\" y=\"-13.7\" font-family=\"Times,serif\" font-size=\"14.00\">data = &#45;1.5 grad=0.0</text>\n",
       "</g>\n",
       "<!-- 5749836016&#45;&gt;5753346464_op -->\n",
       "<g id=\"edge10\" class=\"edge\">\n",
       "<title>5749836016&#45;&gt;5753346464_op</title>\n",
       "<path fill=\"none\" stroke=\"black\" d=\"M139.88,-36.88C147.31,-39.59 154.76,-42.49 161.75,-45.5 171.13,-49.53 181.1,-54.59 189.84,-59.29\"/>\n",
       "<polygon fill=\"black\" stroke=\"black\" points=\"187.99,-62.26 198.43,-64.02 191.36,-56.13 187.99,-62.26\"/>\n",
       "</g>\n",
       "<!-- 5749845376 -->\n",
       "<g id=\"node15\" class=\"node\">\n",
       "<title>5749845376</title>\n",
       "<polygon fill=\"none\" stroke=\"black\" points=\"590.5,-27.5 590.5,-63.5 727.5,-63.5 727.5,-27.5 590.5,-27.5\"/>\n",
       "<text text-anchor=\"middle\" x=\"601.87\" y=\"-40.7\" font-family=\"Times,serif\" font-size=\"14.00\">b</text>\n",
       "<polyline fill=\"none\" stroke=\"black\" points=\"613.25,-28 613.25,-63.5\"/>\n",
       "<text text-anchor=\"middle\" x=\"670.37\" y=\"-40.7\" font-family=\"Times,serif\" font-size=\"14.00\">data = 1 grad=0.0</text>\n",
       "</g>\n",
       "<!-- 5749845376&#45;&gt;5757485232_op -->\n",
       "<g id=\"edge13\" class=\"edge\">\n",
       "<title>5749845376&#45;&gt;5757485232_op</title>\n",
       "<path fill=\"none\" stroke=\"black\" d=\"M727.92,-57.11C749.56,-60.81 772.34,-64.7 789.57,-67.64\"/>\n",
       "<polygon fill=\"black\" stroke=\"black\" points=\"788.85,-71.07 799.3,-69.3 790.03,-64.17 788.85,-71.07\"/>\n",
       "</g>\n",
       "</g>\n",
       "</svg>\n"
      ],
      "text/plain": [
       "<graphviz.graphs.Digraph at 0x1573c1a90>"
      ]
     },
     "execution_count": 1302,
     "metadata": {},
     "output_type": "execute_result"
    }
   ],
   "source": [
    "draw_graph(o)"
   ]
  },
  {
   "cell_type": "code",
   "execution_count": 1303,
   "id": "65eb5846",
   "metadata": {},
   "outputs": [],
   "source": [
    "# Perform backpropagation\n",
    "o.grad = 1.0  # Set the gradient of the output to 1.0\n",
    "\n",
    "visited = set()\n",
    "o.backward(o, visited)"
   ]
  },
  {
   "cell_type": "code",
   "execution_count": 1304,
   "id": "b9b0f81b",
   "metadata": {},
   "outputs": [
    {
     "name": "stderr",
     "output_type": "stream",
     "text": [
      "python(19903) MallocStackLogging: can't turn off malloc stack logging because it was not enabled.\n",
      "python(19904) MallocStackLogging: can't turn off malloc stack logging because it was not enabled.\n",
      "python(19905) MallocStackLogging: can't turn off malloc stack logging because it was not enabled.\n"
     ]
    },
    {
     "data": {
      "image/svg+xml": [
       "<?xml version=\"1.0\" encoding=\"UTF-8\" standalone=\"no\"?>\n",
       "<!DOCTYPE svg PUBLIC \"-//W3C//DTD SVG 1.1//EN\"\n",
       " \"http://www.w3.org/Graphics/SVG/1.1/DTD/svg11.dtd\">\n",
       "<!-- Generated by graphviz version 12.2.1 (20241206.2353)\n",
       " -->\n",
       "<!-- Pages: 1 -->\n",
       "<svg width=\"1864pt\" height=\"210pt\"\n",
       " viewBox=\"0.00 0.00 1864.07 210.00\" xmlns=\"http://www.w3.org/2000/svg\" xmlns:xlink=\"http://www.w3.org/1999/xlink\">\n",
       "<g id=\"graph0\" class=\"graph\" transform=\"scale(1 1) rotate(0) translate(4 206)\">\n",
       "<polygon fill=\"white\" stroke=\"none\" points=\"-4,4 -4,-206 1860.07,-206 1860.07,4 -4,4\"/>\n",
       "<!-- 5757488352 -->\n",
       "<g id=\"node1\" class=\"node\">\n",
       "<title>5757488352</title>\n",
       "<polygon fill=\"none\" stroke=\"black\" points=\"1602.82,-54.5 1602.82,-90.5 1856.07,-90.5 1856.07,-54.5 1602.82,-54.5\"/>\n",
       "<text text-anchor=\"middle\" x=\"1614.19\" y=\"-67.7\" font-family=\"Times,serif\" font-size=\"14.00\">o</text>\n",
       "<polyline fill=\"none\" stroke=\"black\" points=\"1625.57,-55 1625.57,-90.5\"/>\n",
       "<text text-anchor=\"middle\" x=\"1740.82\" y=\"-67.7\" font-family=\"Times,serif\" font-size=\"14.00\">data = &#45;0.9866142981514304 grad=1.0</text>\n",
       "</g>\n",
       "<!-- 5757488352_op -->\n",
       "<g id=\"node2\" class=\"node\">\n",
       "<title>5757488352_op</title>\n",
       "<ellipse fill=\"none\" stroke=\"black\" cx=\"1540.03\" cy=\"-72.5\" rx=\"26.78\" ry=\"26.78\"/>\n",
       "<text text-anchor=\"middle\" x=\"1540.03\" y=\"-67.45\" font-family=\"Times,serif\" font-size=\"14.00\">tanh</text>\n",
       "</g>\n",
       "<!-- 5757488352_op&#45;&gt;5757488352 -->\n",
       "<g id=\"edge1\" class=\"edge\">\n",
       "<title>5757488352_op&#45;&gt;5757488352</title>\n",
       "<path fill=\"none\" stroke=\"black\" d=\"M1567.09,-72.5C1574.24,-72.5 1582.52,-72.5 1591.47,-72.5\"/>\n",
       "<polygon fill=\"black\" stroke=\"black\" points=\"1591.18,-76 1601.18,-72.5 1591.18,-69 1591.18,-76\"/>\n",
       "</g>\n",
       "<!-- 5757485232 -->\n",
       "<g id=\"node3\" class=\"node\">\n",
       "<title>5757485232</title>\n",
       "<polygon fill=\"none\" stroke=\"black\" points=\"1210.5,-54.5 1210.5,-90.5 1477.25,-90.5 1477.25,-54.5 1210.5,-54.5\"/>\n",
       "<text text-anchor=\"middle\" x=\"1221.88\" y=\"-67.7\" font-family=\"Times,serif\" font-size=\"14.00\">y</text>\n",
       "<polyline fill=\"none\" stroke=\"black\" points=\"1233.25,-55 1233.25,-90.5\"/>\n",
       "<text text-anchor=\"middle\" x=\"1355.25\" y=\"-67.7\" font-family=\"Times,serif\" font-size=\"14.00\">data = &#45;2.5 grad=0.026592226683160525</text>\n",
       "</g>\n",
       "<!-- 5757485232&#45;&gt;5757488352_op -->\n",
       "<g id=\"edge14\" class=\"edge\">\n",
       "<title>5757485232&#45;&gt;5757488352_op</title>\n",
       "<path fill=\"none\" stroke=\"black\" d=\"M1477.6,-72.5C1486.16,-72.5 1494.29,-72.5 1501.67,-72.5\"/>\n",
       "<polygon fill=\"black\" stroke=\"black\" points=\"1501.44,-76 1511.44,-72.5 1501.44,-69 1501.44,-76\"/>\n",
       "</g>\n",
       "<!-- 5757485232_op -->\n",
       "<g id=\"node4\" class=\"node\">\n",
       "<title>5757485232_op</title>\n",
       "<ellipse fill=\"none\" stroke=\"black\" cx=\"1156.5\" cy=\"-72.5\" rx=\"18\" ry=\"18\"/>\n",
       "<text text-anchor=\"middle\" x=\"1156.5\" y=\"-67.45\" font-family=\"Times,serif\" font-size=\"14.00\">+</text>\n",
       "</g>\n",
       "<!-- 5757485232_op&#45;&gt;5757485232 -->\n",
       "<g id=\"edge2\" class=\"edge\">\n",
       "<title>5757485232_op&#45;&gt;5757485232</title>\n",
       "<path fill=\"none\" stroke=\"black\" d=\"M1174.94,-72.5C1181.61,-72.5 1189.87,-72.5 1199.1,-72.5\"/>\n",
       "<polygon fill=\"black\" stroke=\"black\" points=\"1198.85,-76 1208.85,-72.5 1198.85,-69 1198.85,-76\"/>\n",
       "</g>\n",
       "<!-- 5756841440 -->\n",
       "<g id=\"node5\" class=\"node\">\n",
       "<title>5756841440</title>\n",
       "<polygon fill=\"none\" stroke=\"black\" points=\"775.75,-82.5 775.75,-118.5 1102.5,-118.5 1102.5,-82.5 775.75,-82.5\"/>\n",
       "<text text-anchor=\"middle\" x=\"817.12\" y=\"-95.7\" font-family=\"Times,serif\" font-size=\"14.00\">x1w1_x2w2</text>\n",
       "<polyline fill=\"none\" stroke=\"black\" points=\"858.5,-83 858.5,-118.5\"/>\n",
       "<text text-anchor=\"middle\" x=\"980.5\" y=\"-95.7\" font-family=\"Times,serif\" font-size=\"14.00\">data = &#45;3.5 grad=0.026592226683160525</text>\n",
       "</g>\n",
       "<!-- 5756841440&#45;&gt;5757485232_op -->\n",
       "<g id=\"edge12\" class=\"edge\">\n",
       "<title>5756841440&#45;&gt;5757485232_op</title>\n",
       "<path fill=\"none\" stroke=\"black\" d=\"M1082.28,-82.02C1099.12,-79.83 1114.7,-77.8 1127.12,-76.19\"/>\n",
       "<polygon fill=\"black\" stroke=\"black\" points=\"1127.45,-79.68 1136.92,-74.92 1126.55,-72.73 1127.45,-79.68\"/>\n",
       "</g>\n",
       "<!-- 5756841440_op -->\n",
       "<g id=\"node6\" class=\"node\">\n",
       "<title>5756841440_op</title>\n",
       "<ellipse fill=\"none\" stroke=\"black\" cx=\"721.75\" cy=\"-100.5\" rx=\"18\" ry=\"18\"/>\n",
       "<text text-anchor=\"middle\" x=\"721.75\" y=\"-95.45\" font-family=\"Times,serif\" font-size=\"14.00\">+</text>\n",
       "</g>\n",
       "<!-- 5756841440_op&#45;&gt;5756841440 -->\n",
       "<g id=\"edge3\" class=\"edge\">\n",
       "<title>5756841440_op&#45;&gt;5756841440</title>\n",
       "<path fill=\"none\" stroke=\"black\" d=\"M740.01,-100.5C746.61,-100.5 754.81,-100.5 764.09,-100.5\"/>\n",
       "<polygon fill=\"black\" stroke=\"black\" points=\"763.93,-104 773.93,-100.5 763.93,-97 763.93,-104\"/>\n",
       "</g>\n",
       "<!-- 5756162016 -->\n",
       "<g id=\"node7\" class=\"node\">\n",
       "<title>5756162016</title>\n",
       "<polygon fill=\"none\" stroke=\"black\" points=\"380,-110.5 380,-146.5 665.5,-146.5 665.5,-110.5 380,-110.5\"/>\n",
       "<text text-anchor=\"middle\" x=\"403\" y=\"-123.7\" font-family=\"Times,serif\" font-size=\"14.00\">x1w1</text>\n",
       "<polyline fill=\"none\" stroke=\"black\" points=\"426,-111 426,-146.5\"/>\n",
       "<text text-anchor=\"middle\" x=\"545.75\" y=\"-123.7\" font-family=\"Times,serif\" font-size=\"14.00\">data = 1.0 grad=0.026592226683160525</text>\n",
       "</g>\n",
       "<!-- 5756162016&#45;&gt;5756841440_op -->\n",
       "<g id=\"edge7\" class=\"edge\">\n",
       "<title>5756162016&#45;&gt;5756841440_op</title>\n",
       "<path fill=\"none\" stroke=\"black\" d=\"M653.78,-110.02C668.07,-107.99 681.38,-106.1 692.3,-104.54\"/>\n",
       "<polygon fill=\"black\" stroke=\"black\" points=\"692.64,-108.03 702.04,-103.16 691.65,-101.1 692.64,-108.03\"/>\n",
       "</g>\n",
       "<!-- 5756162016_op -->\n",
       "<g id=\"node8\" class=\"node\">\n",
       "<title>5756162016_op</title>\n",
       "<ellipse fill=\"none\" stroke=\"black\" cx=\"323.75\" cy=\"-128.5\" rx=\"18\" ry=\"18\"/>\n",
       "<text text-anchor=\"middle\" x=\"323.75\" y=\"-123.45\" font-family=\"Times,serif\" font-size=\"14.00\">*</text>\n",
       "</g>\n",
       "<!-- 5756162016_op&#45;&gt;5756162016 -->\n",
       "<g id=\"edge4\" class=\"edge\">\n",
       "<title>5756162016_op&#45;&gt;5756162016</title>\n",
       "<path fill=\"none\" stroke=\"black\" d=\"M342.23,-128.5C349.36,-128.5 358.29,-128.5 368.35,-128.5\"/>\n",
       "<polygon fill=\"black\" stroke=\"black\" points=\"368.16,-132 378.16,-128.5 368.16,-125 368.16,-132\"/>\n",
       "</g>\n",
       "<!-- 5749838080 -->\n",
       "<g id=\"node9\" class=\"node\">\n",
       "<title>5749838080</title>\n",
       "<polygon fill=\"none\" stroke=\"black\" points=\"5.62,-165.5 5.62,-201.5 264.12,-201.5 264.12,-165.5 5.62,-165.5\"/>\n",
       "<text text-anchor=\"middle\" x=\"20.38\" y=\"-178.7\" font-family=\"Times,serif\" font-size=\"14.00\">x1</text>\n",
       "<polyline fill=\"none\" stroke=\"black\" points=\"35.12,-166 35.12,-201.5\"/>\n",
       "<text text-anchor=\"middle\" x=\"149.62\" y=\"-178.7\" font-family=\"Times,serif\" font-size=\"14.00\">data = 2 grad=0.013296113341580262</text>\n",
       "</g>\n",
       "<!-- 5749838080&#45;&gt;5756162016_op -->\n",
       "<g id=\"edge5\" class=\"edge\">\n",
       "<title>5749838080&#45;&gt;5756162016_op</title>\n",
       "<path fill=\"none\" stroke=\"black\" d=\"M241.89,-165.07C251.41,-162.53 260.82,-159.69 269.75,-156.5 279.37,-153.07 289.4,-148.16 298.11,-143.4\"/>\n",
       "<polygon fill=\"black\" stroke=\"black\" points=\"299.7,-146.53 306.66,-138.54 296.23,-140.44 299.7,-146.53\"/>\n",
       "</g>\n",
       "<!-- 5749837216 -->\n",
       "<g id=\"node10\" class=\"node\">\n",
       "<title>5749837216</title>\n",
       "<polygon fill=\"none\" stroke=\"black\" points=\"2.25,-110.5 2.25,-146.5 267.5,-146.5 267.5,-110.5 2.25,-110.5\"/>\n",
       "<text text-anchor=\"middle\" x=\"18.5\" y=\"-123.7\" font-family=\"Times,serif\" font-size=\"14.00\">w1</text>\n",
       "<polyline fill=\"none\" stroke=\"black\" points=\"34.75,-111 34.75,-146.5\"/>\n",
       "<text text-anchor=\"middle\" x=\"151.12\" y=\"-123.7\" font-family=\"Times,serif\" font-size=\"14.00\">data = 0.5 grad=0.05318445336632105</text>\n",
       "</g>\n",
       "<!-- 5749837216&#45;&gt;5756162016_op -->\n",
       "<g id=\"edge6\" class=\"edge\">\n",
       "<title>5749837216&#45;&gt;5756162016_op</title>\n",
       "<path fill=\"none\" stroke=\"black\" d=\"M267.94,-128.5C277.46,-128.5 286.33,-128.5 294.04,-128.5\"/>\n",
       "<polygon fill=\"black\" stroke=\"black\" points=\"293.97,-132 303.97,-128.5 293.97,-125 293.97,-132\"/>\n",
       "</g>\n",
       "<!-- 5753346464 -->\n",
       "<g id=\"node11\" class=\"node\">\n",
       "<title>5753346464</title>\n",
       "<polygon fill=\"none\" stroke=\"black\" points=\"377.75,-55.5 377.75,-91.5 667.75,-91.5 667.75,-55.5 377.75,-55.5\"/>\n",
       "<text text-anchor=\"middle\" x=\"400.75\" y=\"-68.7\" font-family=\"Times,serif\" font-size=\"14.00\">x2w2</text>\n",
       "<polyline fill=\"none\" stroke=\"black\" points=\"423.75,-56 423.75,-91.5\"/>\n",
       "<text text-anchor=\"middle\" x=\"545.75\" y=\"-68.7\" font-family=\"Times,serif\" font-size=\"14.00\">data = &#45;4.5 grad=0.026592226683160525</text>\n",
       "</g>\n",
       "<!-- 5753346464&#45;&gt;5756841440_op -->\n",
       "<g id=\"edge11\" class=\"edge\">\n",
       "<title>5753346464&#45;&gt;5756841440_op</title>\n",
       "<path fill=\"none\" stroke=\"black\" d=\"M658.69,-91.99C671.1,-93.7 682.62,-95.27 692.27,-96.6\"/>\n",
       "<polygon fill=\"black\" stroke=\"black\" points=\"691.56,-100.03 701.94,-97.92 692.51,-93.1 691.56,-100.03\"/>\n",
       "</g>\n",
       "<!-- 5753346464_op -->\n",
       "<g id=\"node12\" class=\"node\">\n",
       "<title>5753346464_op</title>\n",
       "<ellipse fill=\"none\" stroke=\"black\" cx=\"323.75\" cy=\"-73.5\" rx=\"18\" ry=\"18\"/>\n",
       "<text text-anchor=\"middle\" x=\"323.75\" y=\"-68.45\" font-family=\"Times,serif\" font-size=\"14.00\">*</text>\n",
       "</g>\n",
       "<!-- 5753346464_op&#45;&gt;5753346464 -->\n",
       "<g id=\"edge8\" class=\"edge\">\n",
       "<title>5753346464_op&#45;&gt;5753346464</title>\n",
       "<path fill=\"none\" stroke=\"black\" d=\"M342.23,-73.5C348.87,-73.5 357.07,-73.5 366.29,-73.5\"/>\n",
       "<polygon fill=\"black\" stroke=\"black\" points=\"366.03,-77 376.03,-73.5 366.03,-70 366.03,-77\"/>\n",
       "</g>\n",
       "<!-- 5749841824 -->\n",
       "<g id=\"node13\" class=\"node\">\n",
       "<title>5749841824</title>\n",
       "<polygon fill=\"none\" stroke=\"black\" points=\"6.75,-55.5 6.75,-91.5 263,-91.5 263,-55.5 6.75,-55.5\"/>\n",
       "<text text-anchor=\"middle\" x=\"21.5\" y=\"-68.7\" font-family=\"Times,serif\" font-size=\"14.00\">x2</text>\n",
       "<polyline fill=\"none\" stroke=\"black\" points=\"36.25,-56 36.25,-91.5\"/>\n",
       "<text text-anchor=\"middle\" x=\"149.62\" y=\"-68.7\" font-family=\"Times,serif\" font-size=\"14.00\">data = 3 grad=&#45;0.03988834002474079</text>\n",
       "</g>\n",
       "<!-- 5749841824&#45;&gt;5753346464_op -->\n",
       "<g id=\"edge9\" class=\"edge\">\n",
       "<title>5749841824&#45;&gt;5753346464_op</title>\n",
       "<path fill=\"none\" stroke=\"black\" d=\"M263.36,-73.5C274.57,-73.5 285.02,-73.5 293.93,-73.5\"/>\n",
       "<polygon fill=\"black\" stroke=\"black\" points=\"293.91,-77 303.91,-73.5 293.91,-70 293.91,-77\"/>\n",
       "</g>\n",
       "<!-- 5749836016 -->\n",
       "<g id=\"node14\" class=\"node\">\n",
       "<title>5749836016</title>\n",
       "<polygon fill=\"none\" stroke=\"black\" points=\"0,-0.5 0,-36.5 269.75,-36.5 269.75,-0.5 0,-0.5\"/>\n",
       "<text text-anchor=\"middle\" x=\"16.25\" y=\"-13.7\" font-family=\"Times,serif\" font-size=\"14.00\">w2</text>\n",
       "<polyline fill=\"none\" stroke=\"black\" points=\"32.5,-1 32.5,-36.5\"/>\n",
       "<text text-anchor=\"middle\" x=\"151.12\" y=\"-13.7\" font-family=\"Times,serif\" font-size=\"14.00\">data = &#45;1.5 grad=0.07977668004948157</text>\n",
       "</g>\n",
       "<!-- 5749836016&#45;&gt;5753346464_op -->\n",
       "<g id=\"edge10\" class=\"edge\">\n",
       "<title>5749836016&#45;&gt;5753346464_op</title>\n",
       "<path fill=\"none\" stroke=\"black\" d=\"M241.89,-36.93C251.41,-39.47 260.82,-42.31 269.75,-45.5 279.37,-48.93 289.4,-53.84 298.11,-58.6\"/>\n",
       "<polygon fill=\"black\" stroke=\"black\" points=\"296.23,-61.56 306.66,-63.46 299.7,-55.47 296.23,-61.56\"/>\n",
       "</g>\n",
       "<!-- 5749845376 -->\n",
       "<g id=\"node15\" class=\"node\">\n",
       "<title>5749845376</title>\n",
       "<polygon fill=\"none\" stroke=\"black\" points=\"813.25,-27.5 813.25,-63.5 1065,-63.5 1065,-27.5 813.25,-27.5\"/>\n",
       "<text text-anchor=\"middle\" x=\"824.62\" y=\"-40.7\" font-family=\"Times,serif\" font-size=\"14.00\">b</text>\n",
       "<polyline fill=\"none\" stroke=\"black\" points=\"836,-28 836,-63.5\"/>\n",
       "<text text-anchor=\"middle\" x=\"950.5\" y=\"-40.7\" font-family=\"Times,serif\" font-size=\"14.00\">data = 1 grad=0.026592226683160525</text>\n",
       "</g>\n",
       "<!-- 5749845376&#45;&gt;5757485232_op -->\n",
       "<g id=\"edge13\" class=\"edge\">\n",
       "<title>5749845376&#45;&gt;5757485232_op</title>\n",
       "<path fill=\"none\" stroke=\"black\" d=\"M1065.41,-61.21C1088.64,-64.12 1110.75,-66.89 1127.26,-68.96\"/>\n",
       "<polygon fill=\"black\" stroke=\"black\" points=\"1126.36,-72.37 1136.71,-70.14 1127.23,-65.43 1126.36,-72.37\"/>\n",
       "</g>\n",
       "</g>\n",
       "</svg>\n"
      ],
      "text/plain": [
       "<graphviz.graphs.Digraph at 0x1573c06b0>"
      ]
     },
     "execution_count": 1304,
     "metadata": {},
     "output_type": "execute_result"
    }
   ],
   "source": [
    "draw_graph(o)"
   ]
  },
  {
   "cell_type": "code",
   "execution_count": 1305,
   "id": "160da944",
   "metadata": {},
   "outputs": [
    {
     "name": "stdout",
     "output_type": "stream",
     "text": [
      "o = -0.9866142868995667\n"
     ]
    }
   ],
   "source": [
    "# Verfiy with PyTorch\n",
    "# Forward pass for neural network with one neuron\n",
    "# Inputs: x1, x2; Weights: w1, w2; Bias: b; Output: y\n",
    "\n",
    "import torch\n",
    "\n",
    "x1 = torch.Tensor([2.0])\n",
    "x2 = torch.Tensor([3.0])\n",
    "w1 = torch.Tensor([0.5])\n",
    "w2 = torch.Tensor([-1.5])\n",
    "b = torch.Tensor([1.0])\n",
    "x1.requires_grad = True\n",
    "x2.requires_grad = True\n",
    "w1.requires_grad = True\n",
    "w2.requires_grad = True\n",
    "b.requires_grad = True\n",
    "\n",
    "y = x1 * w1 + x2 * w2 + b\n",
    "o = torch.tanh(y)\n",
    "\n",
    "print(f\"o = {o.item()}\")\n",
    "\n",
    "o.backward()  # Perform backpropagation"
   ]
  },
  {
   "cell_type": "code",
   "execution_count": 1306,
   "id": "182b150b",
   "metadata": {},
   "outputs": [
    {
     "name": "stdout",
     "output_type": "stream",
     "text": [
      "x1.grad = 0.013296124525368214\n",
      "x2.grad = -0.039888374507427216\n",
      "w1.grad = 0.053184498101472855\n",
      "w2.grad = 0.07977674901485443\n",
      "b.grad = 0.026592249050736427\n"
     ]
    }
   ],
   "source": [
    "print(f\"x1.grad = {x1.grad.item()}\") \n",
    "print(f\"x2.grad = {x2.grad.item()}\") \n",
    "print(f\"w1.grad = {w1.grad.item()}\")\n",
    "print(f\"w2.grad = {w2.grad.item()}\")\n",
    "print(f\"b.grad = {b.grad.item()}\")"
   ]
  },
  {
   "cell_type": "code",
   "execution_count": 1409,
   "id": "f1702ff9",
   "metadata": {},
   "outputs": [],
   "source": [
    "import random\n",
    "random.seed(42)  # For reproducibility\n",
    "\n",
    "class N():\n",
    "    \"\"\" Class to represent a single neuron with forward and backward pass. \"\"\"\n",
    "    def __init__(self, input_size):\n",
    "        self.input_size = input_size\n",
    "        self.weights = [Value(random.uniform(-1, 1)) for _ in range(input_size)]\n",
    "        self.b = Value(random.uniform(-1, 1))  # Bias term\n",
    "    \n",
    "    def parameters(self):\n",
    "        return self.weights + [self.b]  # Return all parameters (weights and bias)\n",
    "    \n",
    "    def zero_grad(self):\n",
    "        \"\"\" Reset gradients of all parameters to zero. \"\"\"\n",
    "        for param in self.parameters():\n",
    "            param.grad = 0.0\n",
    "            \n",
    "    def __call__(self, input) -> Value:\n",
    "        \"\"\" Forward pass for the neuron. \"\"\"\n",
    "        assert len(input) == self.input_size, f\"Input size {len(input)} does not match expected size {self.input_size}\"\n",
    "        wx = [w*x for w, x in zip(self.weights, input)]\n",
    "        wx_sum = Value(0.0)  # Initialize sum of weighted inputs\n",
    "        for item in wx:\n",
    "            wx_sum += item  # Sum the weighted inputs\n",
    "\n",
    "        wx_sum = wx_sum + self.b\n",
    "        return wx_sum.tanh()\n",
    "        "
   ]
  },
  {
   "cell_type": "code",
   "execution_count": 1410,
   "id": "95f55a90",
   "metadata": {},
   "outputs": [
    {
     "name": "stdout",
     "output_type": "stream",
     "text": [
      "o = -0.9917317696727084\n"
     ]
    }
   ],
   "source": [
    "n = N(2)  # Create a neuron with 2 inputs\n",
    "x1 = Value(2, label=\"x1\")\n",
    "x2 = Value(3, label=\"x2\")\n",
    "\n",
    "o = n([x1, x2])\n",
    "print(f\"o = {o.data}\")"
   ]
  },
  {
   "cell_type": "code",
   "execution_count": 1411,
   "id": "f5d28c80",
   "metadata": {},
   "outputs": [],
   "source": [
    "class Layer():\n",
    "    \"\"\" Class to represent a layer of neurons. \"\"\"\n",
    "    def __init__(self, input, output):\n",
    "        self.input = input\n",
    "        self.output = output\n",
    "        self.neurons = [N(input) for _ in range(output)]\n",
    "    \n",
    "    def parameters(self):\n",
    "        parameters = []\n",
    "        for n in self.neurons:\n",
    "            parameters.extend(n.parameters())  # Collect parameters from each neuron\n",
    "        return parameters\n",
    "            \n",
    "    def zero_grad(self):\n",
    "        \"\"\" Reset gradients of all parameters to zero. \"\"\"\n",
    "        for param in self.parameters():\n",
    "            param.grad = 0.0\n",
    "            \n",
    "    def __call__(self, input):\n",
    "        \"\"\" Forward pass for the layer. \"\"\"\n",
    "        outputs = [n(input) for n in self.neurons]\n",
    "        return outputs"
   ]
  },
  {
   "cell_type": "code",
   "execution_count": 1483,
   "id": "29894ac6",
   "metadata": {},
   "outputs": [],
   "source": [
    "from typing import Callable\n",
    "\n",
    "class NN():\n",
    "    \"\"\" Class to represent a simple neural network with hidden layers. \"\"\"\n",
    "    def __init__(self, input_size: int, \n",
    "                 hidden_layer_num: int, \n",
    "                 hidden_layer_size: int, \n",
    "                 output_size: int):\n",
    "        self.input_size = input_size\n",
    "        self.hidden_layer_num = hidden_layer_num\n",
    "        self.output_size = output_size\n",
    "        self.hidden_layer_size = hidden_layer_size\n",
    "        self.forward_hook = None  # Hook for forward pass\n",
    "\n",
    "        self.layers = []\n",
    "        for i in range(hidden_layer_num):\n",
    "            if i == 0:\n",
    "                # First layer takes the input size\n",
    "                self.layers.append(Layer(input_size, hidden_layer_size))\n",
    "            elif i == hidden_layer_num - 1:\n",
    "                # Last layer is the output layer, use output_size\n",
    "                self.layers.append(Layer(hidden_layer_size, output_size))\n",
    "            else:\n",
    "                # Intermediate layers use hidden_layer_size\n",
    "                self.layers.append(Layer(hidden_layer_size, hidden_layer_size))\n",
    "           \n",
    "    def parameters(self):\n",
    "        parameters = []\n",
    "        for layer in self.layers:\n",
    "            parameters.extend(layer.parameters())  # Collect parameters from each layer\n",
    "        return parameters\n",
    "\n",
    "    def zero_grad(self):\n",
    "        \"\"\" Reset gradients of all parameters to zero. \"\"\"\n",
    "        for param in self.parameters():\n",
    "            param.grad = 0.0\n",
    "            \n",
    "    def register_forward_hook(self, func: Callable[[str, list[Value], list[Value]], None]): \n",
    "        self.forward_hook = func\n",
    "\n",
    "    def __call__(self, x):\n",
    "        \"\"\" Forward pass for the neural network. \"\"\"\n",
    "        assert len(x) == self.input_size, \"input size mismatch\"\n",
    "\n",
    "        x = [Value(i) for i in x]\n",
    "        input = x.copy()  # Keep a copy of the input for the forward hook\n",
    "        for num, layer in enumerate(self.layers):\n",
    "            x = layer(x)  # Forward pass through the layer\n",
    "            output = x.copy()\n",
    "            self.forward_hook(f\"Layer {num}\", [i.data for i in input], [o.data for o in output]) if self.forward_hook else None\n",
    "\n",
    "        return x"
   ]
  },
  {
   "cell_type": "code",
   "execution_count": 1484,
   "id": "7e307dd5",
   "metadata": {},
   "outputs": [],
   "source": [
    "random.seed(42)  # For reproducibility\n",
    "mlp = NN(input_size=3, hidden_layer_num=3, hidden_layer_size=4, output_size=1)  # Create a neural network with 2 inputs, 2 hidden layers of size 3, and 1 output "
   ]
  },
  {
   "cell_type": "code",
   "execution_count": 1485,
   "id": "b87ae772",
   "metadata": {},
   "outputs": [
    {
     "name": "stdout",
     "output_type": "stream",
     "text": [
      "model information:\n",
      "input size: 3\n",
      "total model layers: 3\n",
      "[0] layer input: 3, layer output: 4, neurons: 4\n",
      "[1] layer input: 4, layer output: 4, neurons: 4\n",
      "[2] layer input: 4, layer output: 1, neurons: 1\n",
      "total model parameters: 41\n",
      "model parameters:\n",
      "[tensor([[ 0.2789, -0.9500, -0.4499],\n",
      "        [ 0.4729,  0.3534,  0.7844],\n",
      "        [-0.1562, -0.9404, -0.5627],\n",
      "        [-0.9469, -0.6023,  0.2998]]), tensor([-0.5536, -0.8261,  0.0107,  0.0899]), tensor([[-0.5591,  0.1785,  0.6189, -0.9870],\n",
      "        [ 0.3963, -0.3195, -0.6890,  0.9144],\n",
      "        [-0.8145, -0.8066,  0.6950,  0.2075],\n",
      "        [ 0.4595,  0.0725,  0.9462, -0.2429]]), tensor([ 0.6116, -0.3268,  0.6143,  0.1041]), tensor([[0.6588, 0.2370, 0.7234, 0.1547]]), tensor([0.4091])]\n"
     ]
    }
   ],
   "source": [
    "print(\"model information:\")\n",
    "print(f\"input size: {mlp.input_size}\")\n",
    "print(f\"total model layers: {len(mlp.layers)}\")\n",
    "for i, layer in enumerate(mlp.layers):\n",
    "    print(f\"[{i}] layer input: {layer.input}, layer output: {layer.output}, neurons: {len(layer.neurons)}\")\n",
    "print(f\"total model parameters: {len(mlp.parameters())}\")\n",
    "\n",
    "# Build tensor parameters for the model, this will be used to set the parameters in PyTorch\n",
    "mlp_tensor_parameters = []\n",
    "print(\"model parameters:\")\n",
    "for layer_num, layer in enumerate(mlp.layers):\n",
    "    layer_params = []\n",
    "    bias_params = []\n",
    "    for neuron_num, neuron in enumerate(layer.neurons):\n",
    "        layer_params.append([x.data for x in neuron.parameters()][:-1])\n",
    "        bias_params.append([x.data for x in neuron.parameters()][-1])\n",
    "    mlp_tensor_parameters.append(torch.tensor(layer_params))\n",
    "    mlp_tensor_parameters.append(torch.tensor(bias_params))\n",
    "    \n",
    "print(mlp_tensor_parameters)"
   ]
  },
  {
   "cell_type": "code",
   "execution_count": 1486,
   "id": "4fb2c2a4",
   "metadata": {},
   "outputs": [],
   "source": [
    "# Create a PyTorch model with the same architecture for verification\n",
    "import torch.nn as nn\n",
    "torch.manual_seed(42)  # For reproducibility\n",
    "\n",
    "class MLP(nn.Module):\n",
    "    def __init__(self, input_size):\n",
    "        super(MLP, self).__init__()\n",
    "        self.layers = nn.Sequential(\n",
    "            nn.Linear(input_size, 4),  # First hidden layer\n",
    "            nn.Tanh(),\n",
    "            nn.Linear(4, 4),  # Second hidden layer\n",
    "            nn.Tanh(),\n",
    "            nn.Linear(4, 1)   # Output layer\n",
    "        )\n",
    "    def forward(self, x):\n",
    "        return self.layers(x)\n",
    "\n",
    "def hook_fn(module, input, output, name=None):\n",
    "    \"\"\" Hook function to capture the output of each layer. \"\"\"\n",
    "    print(f\"Layer: {module}, Input: {input}, Output: {output}\")"
   ]
  },
  {
   "cell_type": "code",
   "execution_count": 1487,
   "id": "bd7853c4",
   "metadata": {},
   "outputs": [
    {
     "name": "stdout",
     "output_type": "stream",
     "text": [
      "Registering hook for layer: \n",
      "Registering hook for layer: layers\n",
      "Registering hook for layer: layers.0\n",
      "Registering hook for layer: layers.1\n",
      "Registering hook for layer: layers.2\n",
      "Registering hook for layer: layers.3\n",
      "Registering hook for layer: layers.4\n",
      "model parameters = [Parameter containing:\n",
      "tensor([[ 0.2789, -0.9500, -0.4499],\n",
      "        [ 0.4729,  0.3534,  0.7844],\n",
      "        [-0.1562, -0.9404, -0.5627],\n",
      "        [-0.9469, -0.6023,  0.2998]], requires_grad=True), Parameter containing:\n",
      "tensor([-0.5536, -0.8261,  0.0107,  0.0899], requires_grad=True), Parameter containing:\n",
      "tensor([[-0.5591,  0.1785,  0.6189, -0.9870],\n",
      "        [ 0.3963, -0.3195, -0.6890,  0.9144],\n",
      "        [-0.8145, -0.8066,  0.6950,  0.2075],\n",
      "        [ 0.4595,  0.0725,  0.9462, -0.2429]], requires_grad=True), Parameter containing:\n",
      "tensor([ 0.6116, -0.3268,  0.6143,  0.1041], requires_grad=True), Parameter containing:\n",
      "tensor([[0.6588, 0.2370, 0.7234, 0.1547]], requires_grad=True), Parameter containing:\n",
      "tensor([0.4091], requires_grad=True)]\n"
     ]
    }
   ],
   "source": [
    "tmlp = MLP(input_size=3)  # Create a PyTorch model with the same architecture\n",
    "torch.manual_seed(42)  # For reproducibility\n",
    "with torch.no_grad():\n",
    "    for param_tmlp, param_mlp in zip(tmlp.parameters(), mlp_tensor_parameters):\n",
    "        param_tmlp.copy_(param_mlp)\n",
    "\n",
    "# Register hooks to capture the output of each layer\n",
    "for name, module in tmlp.named_modules():\n",
    "    print(f\"Registering hook for layer: {name}\")\n",
    "    module.register_forward_hook(hook_fn)\n",
    "\n",
    "print(f\"model parameters = {[p for p in tmlp.parameters()]}\")"
   ]
  },
  {
   "cell_type": "code",
   "execution_count": 1488,
   "id": "bd430978",
   "metadata": {},
   "outputs": [],
   "source": [
    "x = [\n",
    "    [2.0, 3.0, -1.0],\n",
    "    [3.0, -1.0, 0.5],\n",
    "    [0.5, 1.0, 1.0],\n",
    "    [1.0, 1.0, -1.0]\n",
    "]\n",
    "\n",
    "y = [1.0, -1.0, -1.0, 1.0]  # Example labels"
   ]
  },
  {
   "cell_type": "code",
   "execution_count": 1489,
   "id": "014ec9cf",
   "metadata": {},
   "outputs": [],
   "source": [
    "def loss_fn_mse(y_preds, y_true):\n",
    "    \"\"\"Mean squared error loss function.\"\"\"\n",
    "    loss = sum([(i - j)**2 for i, j in zip(y_preds, y_true)])\n",
    "\n",
    "    return loss/len(y_preds)"
   ]
  },
  {
   "cell_type": "code",
   "execution_count": 1490,
   "id": "8bb459c2",
   "metadata": {},
   "outputs": [],
   "source": [
    "def loss_fn_mae(y_preds, y_true):\n",
    "    \"\"\"Mean absolute error loss function.\"\"\"\n",
    "    loss = sum([(i - j) for i, j in zip(y_preds, y_true)])\n",
    "\n",
    "    return loss / len(y_preds)"
   ]
  },
  {
   "cell_type": "code",
   "execution_count": null,
   "id": "3d011511",
   "metadata": {},
   "outputs": [
    {
     "name": "stdout",
     "output_type": "stream",
     "text": [
      "y_preds = 0.6994093620224069\n",
      "y = 1.0\n",
      "loss = Value(data=0.09035473163977645)\n"
     ]
    }
   ],
   "source": [
    "# First forward pass with our model\n",
    "mlp.register_forward_hook(hook_fn)  # Register the hook to capture outputs\n",
    "y_preds = mlp(x[0])\n",
    "print(f\"y_preds = {y_preds[0].data}\")\n",
    "print(f\"y = {y[0]}\")\n",
    "loss = loss_fn_mse([y_preds[0]], [Value(y[0])])\n",
    "print(f\"loss = {loss}\")"
   ]
  },
  {
   "cell_type": "code",
   "execution_count": 1492,
   "id": "7c87c0a8",
   "metadata": {},
   "outputs": [
    {
     "name": "stdout",
     "output_type": "stream",
     "text": [
      "Layer: Linear(in_features=3, out_features=4, bias=True), Input: (tensor([ 2.,  3., -1.]),), Output: tensor([-2.3959,  0.3956, -2.5601, -3.9107], grad_fn=<ViewBackward0>)\n",
      "Layer: Tanh(), Input: (tensor([-2.3959,  0.3956, -2.5601, -3.9107], grad_fn=<ViewBackward0>),), Output: tensor([-0.9835,  0.3762, -0.9881, -0.9992], grad_fn=<TanhBackward0>)\n",
      "Layer: Linear(in_features=4, out_features=4, bias=True), Input: (tensor([-0.9835,  0.3762, -0.9881, -0.9992], grad_fn=<TanhBackward0>),), Output: tensor([ 1.6034, -1.0696,  0.2179, -1.0128], grad_fn=<ViewBackward0>)\n",
      "Layer: Tanh(), Input: (tensor([ 1.6034, -1.0696,  0.2179, -1.0128], grad_fn=<ViewBackward0>),), Output: tensor([ 0.9222, -0.7893,  0.2145, -0.7669], grad_fn=<TanhBackward0>)\n",
      "Layer: Linear(in_features=4, out_features=1, bias=True), Input: (tensor([ 0.9222, -0.7893,  0.2145, -0.7669], grad_fn=<TanhBackward0>),), Output: tensor([0.8661], grad_fn=<ViewBackward0>)\n",
      "Layer: Sequential(\n",
      "  (0): Linear(in_features=3, out_features=4, bias=True)\n",
      "  (1): Tanh()\n",
      "  (2): Linear(in_features=4, out_features=4, bias=True)\n",
      "  (3): Tanh()\n",
      "  (4): Linear(in_features=4, out_features=1, bias=True)\n",
      "), Input: (tensor([ 2.,  3., -1.]),), Output: tensor([0.8661], grad_fn=<ViewBackward0>)\n",
      "Layer: MLP(\n",
      "  (layers): Sequential(\n",
      "    (0): Linear(in_features=3, out_features=4, bias=True)\n",
      "    (1): Tanh()\n",
      "    (2): Linear(in_features=4, out_features=4, bias=True)\n",
      "    (3): Tanh()\n",
      "    (4): Linear(in_features=4, out_features=1, bias=True)\n",
      "  )\n",
      "), Input: (tensor([ 2.,  3., -1.]),), Output: tensor([0.8661], grad_fn=<ViewBackward0>)\n",
      "y_preds_tmlp = 0.8661433458328247\n",
      "loss_tmlp = Value(data=0.017917603864830767)\n"
     ]
    }
   ],
   "source": [
    "# First forward pass with PyTorch model\n",
    "y_preds_tmlp = tmlp(torch.tensor(x[0]))\n",
    "print(f\"y_preds_tmlp = {y_preds_tmlp.item()}\")\n",
    "loss_tmlp = loss_fn_mse([Value(y_preds_tmlp.item())], [Value(y[0])])\n",
    "print(f\"loss_tmlp = {loss_tmlp}\")"
   ]
  },
  {
   "cell_type": "code",
   "execution_count": 1389,
   "id": "dedc339a",
   "metadata": {},
   "outputs": [],
   "source": [
    "# Backward pass with our model\n",
    "mlp.zero_grad()\n",
    "visited = set()\n",
    "loss.grad = 1.0  # Set the gradient of the loss to 1.0\n",
    "loss.backward(loss, visited)"
   ]
  },
  {
   "cell_type": "code",
   "execution_count": 1390,
   "id": "494cc192",
   "metadata": {},
   "outputs": [],
   "source": [
    "# Update parameters with gradients\n",
    "learning_rate = 0.01\n",
    "for param in mlp.parameters():\n",
    "    param.data -= learning_rate * param.grad"
   ]
  },
  {
   "cell_type": "code",
   "execution_count": 1382,
   "id": "d85f718c",
   "metadata": {},
   "outputs": [
    {
     "name": "stdout",
     "output_type": "stream",
     "text": [
      "y_preds = -0.9947398609010677\n",
      "y = 1.0\n",
      "loss = Value(data=3.9789871126676113)\n"
     ]
    }
   ],
   "source": [
    "# Second forward pass with our model\n",
    "y_preds = mlp(x[0])\n",
    "print(f\"y_preds = {y_preds[0].data}\")\n",
    "print(f\"y = {y[0]}\")\n",
    "loss = loss_fn_mse([y_preds[0]], [Value(y[0])])\n",
    "print(f\"loss = {loss}\")"
   ]
  },
  {
   "cell_type": "code",
   "execution_count": 1383,
   "id": "20af6cbd",
   "metadata": {},
   "outputs": [
    {
     "name": "stdout",
     "output_type": "stream",
     "text": [
      " = -0.697755435728472, grad = -9.258772121905026e-07\n",
      " = -0.19633500978699958, grad = -1.388815818285754e-06\n",
      " = 0.1782531056214575, grad = 4.629386060952513e-07\n",
      " = 0.14449239255811638, grad = -4.629386060952513e-07\n",
      " = -0.31846280475856964, grad = 5.919519828319888e-05\n",
      " = 0.5819575713172511, grad = 8.879279742479831e-05\n",
      " = 0.6908407436214404, grad = -2.959759914159944e-05\n",
      " = -0.4766864425282597, grad = 2.959759914159944e-05\n",
      " = 0.6688750759234243, grad = 2.8472077902480133e-07\n",
      " = -0.062009858887218196, grad = 4.27081168537202e-07\n",
      " = -0.8993885268330379, grad = -1.4236038951240066e-07\n",
      " = 0.6377345753591916, grad = 1.4236038951240066e-07\n",
      " = -0.6434604078913523, grad = -4.32383333174797e-08\n",
      " = -0.5915583044577417, grad = -6.485749997621955e-08\n",
      " = 0.2301087591686382, grad = 2.161916665873985e-08\n",
      " = -0.6927339464549199, grad = -2.161916665873985e-08\n",
      " = -0.20503481505719542, grad = -3.195600893054147e-05\n",
      " = 0.8971269043016094, grad = -1.936924189229851e-06\n",
      " = 0.23493027943804234, grad = 3.280048557342123e-05\n",
      " = -0.4720919284095672, grad = -3.308196370683785e-05\n",
      " = 0.8763011470917802, grad = 3.310486881481802e-05\n",
      " = 0.3689835068679285, grad = -7.57367032361773e-05\n",
      " = 0.5610702130044147, grad = -4.59056864170769e-06\n",
      " = 0.31248068100868864, grad = 7.773813830370045e-05\n",
      " = -0.7133049015675301, grad = -7.84052499541066e-05\n",
      " = -0.39278777521515557, grad = 7.845953574960308e-05\n",
      " = -0.754729075846919, grad = -3.0942970692149534e-05\n",
      " = 0.7420562840668726, grad = -1.8755217070606583e-06\n",
      " = 0.8437499478060739, grad = 3.176067655985129e-05\n",
      " = 0.03809559328405579, grad = -3.203323154792012e-05\n",
      " = 0.2880250189707024, grad = 3.205541054049931e-05\n",
      " = -0.11656117367642536, grad = 0.00013456958598383623\n",
      " = 0.5042235405823506, grad = 8.156559437484242e-06\n",
      " = 0.7212530763934578, grad = -0.00013812575197603999\n",
      " = 0.8266545692584674, grad = 0.00013931108134428833\n",
      " = -0.6559417355494719, grad = -0.00013940753678415586\n",
      " = -0.8312473858630945, grad = -0.00031410958950715443\n",
      " = -0.24828894415689515, grad = -7.900788756914322e-05\n",
      " = -0.8757223474418855, grad = -0.0003158207451660301\n",
      " = 0.6441246513578631, grad = 0.00019890704309963482\n",
      " = -0.92093144169388, grad = -0.00033465282046734495\n"
     ]
    }
   ],
   "source": [
    "for param in mlp.parameters():\n",
    "    print(f\"{param.label} = {param.data}, grad = {param.grad}\")"
   ]
  },
  {
   "cell_type": "code",
   "execution_count": 1391,
   "id": "f4b8b6f1",
   "metadata": {},
   "outputs": [
    {
     "ename": "AssertionError",
     "evalue": "input size mismatch",
     "output_type": "error",
     "traceback": [
      "\u001b[31m---------------------------------------------------------------------------\u001b[39m",
      "\u001b[31mAssertionError\u001b[39m                            Traceback (most recent call last)",
      "\u001b[36mCell\u001b[39m\u001b[36m \u001b[39m\u001b[32mIn[1391]\u001b[39m\u001b[32m, line 15\u001b[39m\n\u001b[32m     12\u001b[39m y_true = [Value(y_i) \u001b[38;5;28;01mfor\u001b[39;00m y_i \u001b[38;5;129;01min\u001b[39;00m y]  \u001b[38;5;66;03m# Convert labels to Value objects\u001b[39;00m\n\u001b[32m     14\u001b[39m \u001b[38;5;28;01mfor\u001b[39;00m epoch \u001b[38;5;129;01min\u001b[39;00m \u001b[38;5;28mrange\u001b[39m(epochs):\n\u001b[32m---> \u001b[39m\u001b[32m15\u001b[39m     y_preds = [mlp(i)[\u001b[32m0\u001b[39m] \u001b[38;5;28;01mfor\u001b[39;00m i \u001b[38;5;129;01min\u001b[39;00m x]  \u001b[38;5;66;03m# Forward pass through the neural network\u001b[39;00m\n\u001b[32m     16\u001b[39m     loss = loss_fn_mse(y_preds, y_true)\n\u001b[32m     17\u001b[39m     losses.append(loss)\n",
      "\u001b[36mCell\u001b[39m\u001b[36m \u001b[39m\u001b[32mIn[1373]\u001b[39m\u001b[32m, line 37\u001b[39m, in \u001b[36mNN.__call__\u001b[39m\u001b[34m(self, x)\u001b[39m\n\u001b[32m     35\u001b[39m \u001b[38;5;28;01mdef\u001b[39;00m\u001b[38;5;250m \u001b[39m\u001b[34m__call__\u001b[39m(\u001b[38;5;28mself\u001b[39m, x):\n\u001b[32m     36\u001b[39m \u001b[38;5;250m    \u001b[39m\u001b[33;03m\"\"\" Forward pass for the neural network. \"\"\"\u001b[39;00m\n\u001b[32m---> \u001b[39m\u001b[32m37\u001b[39m     \u001b[38;5;28;01massert\u001b[39;00m \u001b[38;5;28mlen\u001b[39m(x) == \u001b[38;5;28mself\u001b[39m.input_size, \u001b[33m\"\u001b[39m\u001b[33minput size mismatch\u001b[39m\u001b[33m\"\u001b[39m\n\u001b[32m     39\u001b[39m     output = [Value(i) \u001b[38;5;28;01mfor\u001b[39;00m i \u001b[38;5;129;01min\u001b[39;00m x]\n\u001b[32m     41\u001b[39m     \u001b[38;5;28;01mfor\u001b[39;00m layer \u001b[38;5;129;01min\u001b[39;00m \u001b[38;5;28mself\u001b[39m.layers:\n",
      "\u001b[31mAssertionError\u001b[39m: input size mismatch"
     ]
    }
   ],
   "source": [
    "# Run model training for multiple epochs\n",
    "epochs = 100\n",
    "learning_rate = 0.01\n",
    "\n",
    "# Reset model parameters\n",
    "for param in mlp.parameters():\n",
    "    param.data = random.uniform(-1, 1)  # Random initialization of parameters\n",
    "    param.grad = 0.0\n",
    "\n",
    "losses = []\n",
    "accuracy = []\n",
    "y_true = [Value(y_i) for y_i in y]  # Convert labels to Value objects\n",
    "\n",
    "for epoch in range(epochs):\n",
    "    y_preds = [mlp(i)[0] for i in x]  # Forward pass through the neural network\n",
    "    loss = loss_fn_mse(y_preds, y_true)\n",
    "    losses.append(loss)\n",
    "    accuracy.append(1 - sum([abs(y_true - y_pred.data) for y_true, y_pred in zip(y, y_preds)]))\n",
    "\n",
    "    print(f\"Epoch {epoch+1}/{epochs}, Loss: {loss.data}, Accuracy: {accuracy[-1]}\")\n",
    "        \n",
    "    mlp.zero_grad()  # Reset gradients of all parameters\n",
    "    loss.grad = 1.0  # Set the gradient of the loss to 1.0\n",
    "    visited = set()\n",
    "    loss.backward(loss, visited)\n",
    "    for param in mlp.parameters():\n",
    "        param.data = param.data - learning_rate * param.grad  # Update parameters using gradient descent"
   ]
  },
  {
   "cell_type": "code",
   "execution_count": 1368,
   "id": "62fd9d9c",
   "metadata": {},
   "outputs": [
    {
     "name": "stdout",
     "output_type": "stream",
     "text": [
      "y_preds after training: [-0.7591012702355117, -0.5707166837634496, -0.6796210582312843, -0.7133280874088487]\n",
      "y_true after training: [1.0, -1.0, -1.0, 1.0]\n"
     ]
    }
   ],
   "source": [
    "print(f\"y_preds after training: {[item.data for item in y_preds]}\")\n",
    "print(f\"y_true after training: {[item.data for item in y_true]}\")"
   ]
  },
  {
   "cell_type": "code",
   "execution_count": 1369,
   "id": "08b99310",
   "metadata": {},
   "outputs": [
    {
     "data": {
      "image/png": "[encoded data removed]",
      "text/plain": [
       "<Figure size 640x480 with 1 Axes>"
      ]
     },
     "metadata": {},
     "output_type": "display_data"
    }
   ],
   "source": [
    "# Plot the loss over epochs\n",
    "\n",
    "plt.plot(range(epochs), [item.data for item in losses])\n",
    "plt.xlabel('Epochs')\n",
    "plt.ylabel('Loss')\n",
    "plt.title('Loss over epochs')\n",
    "plt.grid()\n",
    "plt.show()"
   ]
  },
  {
   "cell_type": "code",
   "execution_count": 1249,
   "id": "2e370b63",
   "metadata": {},
   "outputs": [
    {
     "data": {
      "image/png": "[encoded data removed]",
      "text/plain": [
       "<Figure size 640x480 with 1 Axes>"
      ]
     },
     "metadata": {},
     "output_type": "display_data"
    }
   ],
   "source": [
    "# Plot the accuracy over epochs\n",
    "plt.plot(range(epochs), accuracy)\n",
    "plt.xlabel('Epochs')\n",
    "plt.ylabel('Accuracy')\n",
    "plt.title('Accuracy over epochs')\n",
    "plt.grid()\n",
    "plt.show()"
   ]
  },
  {
   "cell_type": "code",
   "execution_count": null,
   "id": "912faec9",
   "metadata": {},
   "outputs": [],
   "source": []
  }
 ],
 "metadata": {
  "kernelspec": {
   "display_name": "berkeley_ai",
   "language": "python",
   "name": "python3"
  },
  "language_info": {
   "codemirror_mode": {
    "name": "ipython",
    "version": 3
   },
   "file_extension": ".py",
   "mimetype": "text/x-python",
   "name": "python",
   "nbconvert_exporter": "python",
   "pygments_lexer": "ipython3",
   "version": "3.12.9"
  }
 },
 "nbformat": 4,
 "nbformat_minor": 5
}
