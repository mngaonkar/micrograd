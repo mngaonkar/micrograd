{
 "cells": [
  {
   "cell_type": "code",
   "execution_count": 670,
   "id": "7b5e86a9",
   "metadata": {},
   "outputs": [],
   "source": [
    "import math\n",
    "import numpy as np\n",
    "import matplotlib.pyplot as plt\n",
    "%matplotlib inline\n",
    "from graphviz import Digraph\n",
    "import os\n",
    "from IPython import display\n",
    "import logging"
   ]
  },
  {
   "cell_type": "code",
   "execution_count": 715,
   "id": "d5629e23",
   "metadata": {},
   "outputs": [],
   "source": [
    "logger = logging.getLogger(__name__)\n",
    "logging.basicConfig(level=logging.ERROR, format='%(asctime)s - %(name)s - %(levelname)s - %(message)s')"
   ]
  },
  {
   "cell_type": "code",
   "execution_count": 672,
   "id": "84ab2aa8",
   "metadata": {},
   "outputs": [],
   "source": [
    "# Required for Jupyter Notebook to find the graphviz executables\n",
    "os.environ[\"PATH\"] += os.pathsep + os.path.abspath(\"/opt/homebrew/bin/\")"
   ]
  },
  {
   "cell_type": "code",
   "execution_count": 673,
   "id": "4eba97f6",
   "metadata": {},
   "outputs": [],
   "source": [
    "# Sample function for gradient calculation\n",
    "def f(x):\n",
    "    return 3*x**2 - 4*x + 5"
   ]
  },
  {
   "cell_type": "code",
   "execution_count": 674,
   "id": "3fbd74c4",
   "metadata": {},
   "outputs": [
    {
     "data": {
      "image/png": "[encoded data removed]",
      "text/plain": [
       "<Figure size 640x480 with 1 Axes>"
      ]
     },
     "metadata": {},
     "output_type": "display_data"
    }
   ],
   "source": [
    "xs = np.arange(-10, 10, 0.5)\n",
    "ys = f(xs)\n",
    "plt.plot(xs, ys)\n",
    "plt.show()"
   ]
  },
  {
   "cell_type": "code",
   "execution_count": 675,
   "id": "08cde3ad",
   "metadata": {},
   "outputs": [],
   "source": [
    "h = 0.000001"
   ]
  },
  {
   "cell_type": "code",
   "execution_count": 676,
   "id": "71c90bcd",
   "metadata": {},
   "outputs": [],
   "source": [
    "a = 3\n",
    "b = -2\n",
    "c = 1\n",
    "d1 = a*b + c"
   ]
  },
  {
   "cell_type": "code",
   "execution_count": 677,
   "id": "4e7752bb",
   "metadata": {},
   "outputs": [],
   "source": [
    "c = c + h\n",
    "d2 = a*b + c"
   ]
  },
  {
   "cell_type": "code",
   "execution_count": 678,
   "id": "c7b273b4",
   "metadata": {},
   "outputs": [
    {
     "name": "stdout",
     "output_type": "stream",
     "text": [
      "d1 =  -5\n",
      "d2 =  -4.999999\n",
      "dc_dy =  1.000000000139778\n"
     ]
    }
   ],
   "source": [
    "print(\"d1 = \", d1)\n",
    "print(\"d2 = \", d2)\n",
    "print(\"dc_dy = \", (d2 - d1) / h)"
   ]
  },
  {
   "cell_type": "code",
   "execution_count": 679,
   "id": "68d78e61",
   "metadata": {},
   "outputs": [
    {
     "name": "stdout",
     "output_type": "stream",
     "text": [
      "d1 =  -5\n",
      "d2 =  -5.000002\n",
      "da_dy =  -2.000000000279556\n"
     ]
    }
   ],
   "source": [
    "a = 3; b = -2; c = 1\n",
    "d1 = a*b + c\n",
    "a = a + h\n",
    "d2 = a*b + c\n",
    "print(\"d1 = \", d1)\n",
    "print(\"d2 = \", d2)\n",
    "print(\"da_dy = \", (d2 - d1) / h)"
   ]
  },
  {
   "cell_type": "code",
   "execution_count": 680,
   "id": "49ed6158",
   "metadata": {},
   "outputs": [
    {
     "name": "stdout",
     "output_type": "stream",
     "text": [
      "d1 =  -5\n",
      "d2 =  -4.9999970000000005\n",
      "db_dy =  2.9999999995311555\n"
     ]
    }
   ],
   "source": [
    "a = 3; b = -2; c = 1\n",
    "d1 = a*b + c\n",
    "b = b + h\n",
    "d2 = a*b + c\n",
    "print(\"d1 = \", d1)\n",
    "print(\"d2 = \", d2)\n",
    "print(\"db_dy = \", (d2 - d1) / h)"
   ]
  },
  {
   "cell_type": "code",
   "execution_count": 681,
   "id": "c4f10ed7",
   "metadata": {},
   "outputs": [
    {
     "name": "stdout",
     "output_type": "stream",
     "text": [
      "d1 =  -5\n",
      "d2 =  -4.999999\n",
      "dab_dy =  1.000000000139778\n"
     ]
    }
   ],
   "source": [
    "a = 3; b = -2; c = 1\n",
    "d1 = a*b + c\n",
    "d2 = a*b + h + c\n",
    "print(\"d1 = \", d1)\n",
    "print(\"d2 = \", d2)\n",
    "print(\"dab_dy = \", (d2 - d1) / h)"
   ]
  },
  {
   "cell_type": "code",
   "execution_count": 682,
   "id": "e5c68b90",
   "metadata": {},
   "outputs": [],
   "source": [
    "class Value():\n",
    "    \"\"\" Basic class to represent a scale value with arithmeti operations and gradients. \"\"\"\n",
    "    def __init__(self, data, _children=(), _op = '', grad=0.0, label=\"\"):\n",
    "        self.data = data\n",
    "        self._prev = _children\n",
    "        self._op = _op\n",
    "        self.label = label\n",
    "        self.grad = 0.0  # Gradient initialized to zero\n",
    "    \n",
    "    def __repr__(self):\n",
    "        return f\"Value(data={self.data})\"\n",
    "    \n",
    "    def __add__(self, other):\n",
    "        if isinstance(other, Value):\n",
    "            return Value(self.data + other.data, _children=(self, other), _op='+')\n",
    "        else:\n",
    "            raise ValueError(\"Can only add Value to Value\")\n",
    "    \n",
    "    def __mul__(self, other):\n",
    "        if isinstance(other, Value):\n",
    "            return Value(self.data * other.data, _children=(self, other), _op='*')\n",
    "        else:\n",
    "            raise ValueError(\"Can only multiply Value to Value\")\n",
    "        \n",
    "    def tanh(self):\n",
    "        return Value((np.exp(self.data*2) - 1)/(np.exp(self.data*2) + 1), _op='tanh', _children=(self,))"
   ]
  },
  {
   "cell_type": "code",
   "execution_count": 683,
   "id": "077e5615",
   "metadata": {},
   "outputs": [
    {
     "name": "stdout",
     "output_type": "stream",
     "text": [
      "d._prev = (Value(data=-6), Value(data=1)) d = -5\n"
     ]
    }
   ],
   "source": [
    "a = Value(3, label=\"a\")\n",
    "b = Value(-2, label=\"b\")\n",
    "c = Value(1, label=\"c\")\n",
    "d = a*b + c; d.label = \"d\"\n",
    "print(f\"d._prev = {d._prev} d = {d.data}\")"
   ]
  },
  {
   "cell_type": "code",
   "execution_count": 684,
   "id": "db81115f",
   "metadata": {},
   "outputs": [],
   "source": [
    "def draw_graph(root):\n",
    "    \"\"\" Vibe codded and it works! \"\"\"\n",
    "    # Initialize a directed graph\n",
    "    dot = Digraph(format='png', graph_attr={'rankdir': 'LR'})  # Left-to-right layout\n",
    "    \n",
    "    def build_graph(node, visited=None):\n",
    "        if visited is None:\n",
    "            visited = set()\n",
    "        \n",
    "        # Skip if node already visited to avoid cycles\n",
    "        if id(node) in visited:\n",
    "            return\n",
    "        visited.add(id(node))\n",
    "        \n",
    "        # Add node to the graph\n",
    "        node_id = str(id(node))\n",
    "        dot.node(node_id, f\"{{ {node.label} | data = {node.data} grad={node.grad} }}\", shape='record')\n",
    "        \n",
    "        # If node has an operation, create an operation node\n",
    "        if node._op:\n",
    "            op_id = f\"{node_id}_op\"\n",
    "            dot.node(op_id, node._op, shape='circle')\n",
    "            dot.edge(op_id, node_id)  # Edge from operation to result\n",
    "        \n",
    "            # Recursively process children\n",
    "            for child in node._prev:\n",
    "                child_id = str(id(child))\n",
    "                build_graph(child, visited)\n",
    "                dot.edge(child_id, op_id)  # Edge from child to operation\n",
    "    \n",
    "    # Build the graph starting from the root\n",
    "    build_graph(root)\n",
    "    \n",
    "    # Render and display the graph\n",
    "    dot.render('computation_graph', view=True, cleanup=True)\n",
    "    \n",
    "    return dot\n"
   ]
  },
  {
   "cell_type": "code",
   "execution_count": 685,
   "id": "84c181f8",
   "metadata": {},
   "outputs": [],
   "source": [
    "# draw_graph(d)"
   ]
  },
  {
   "cell_type": "code",
   "execution_count": 686,
   "id": "98dd4bec",
   "metadata": {},
   "outputs": [],
   "source": [
    "# Forward pass for neural network with one neuron\n",
    "# Inputs: x1, x2; Weights: w1, w2; Bias: b; Output: y\n",
    "\n",
    "x1 = Value(2, label=\"x1\")\n",
    "x2 = Value(3, label=\"x2\")\n",
    "w1 = Value(0.5, label=\"w1\")\n",
    "w2 = Value(-1.5, label=\"w2\")\n",
    "b = Value(1, label=\"b\")\n",
    "x1w1 = x1 * w1; x1w1.label = \"x1w1\"\n",
    "x2w2 = x2 * w2; x2w2.label = \"x2w2\"\n",
    "x1w1_x2w2 = x1w1 + x2w2; x1w1_x2w2.label = \"x1w1_x2w2\"\n",
    "y = x1w1_x2w2 + b; y.label = \"y\"\n",
    "o = y.tanh(); o.label = \"o\""
   ]
  },
  {
   "cell_type": "code",
   "execution_count": 687,
   "id": "68ed37c5",
   "metadata": {},
   "outputs": [
    {
     "name": "stdout",
     "output_type": "stream",
     "text": [
      "o = -0.9866142981514304\n"
     ]
    }
   ],
   "source": [
    "print(f\"o = {o.data}\")"
   ]
  },
  {
   "cell_type": "code",
   "execution_count": 688,
   "id": "ec8210b2",
   "metadata": {},
   "outputs": [],
   "source": [
    "# draw_graph(o)"
   ]
  },
  {
   "cell_type": "code",
   "execution_count": 689,
   "id": "70612029",
   "metadata": {},
   "outputs": [],
   "source": [
    "# Backpropagation\n",
    "o.grad = 1.0  # Set the gradient of the output to 1.0"
   ]
  },
  {
   "cell_type": "code",
   "execution_count": 690,
   "id": "daba22b3",
   "metadata": {},
   "outputs": [],
   "source": [
    "# draw_graph(o)"
   ]
  },
  {
   "cell_type": "code",
   "execution_count": 691,
   "id": "922f3c0f",
   "metadata": {},
   "outputs": [],
   "source": [
    "do_dn = 1 - math.tanh(o.data)**2\n",
    "y.grad = do_dn"
   ]
  },
  {
   "cell_type": "code",
   "execution_count": 692,
   "id": "72a71420",
   "metadata": {},
   "outputs": [],
   "source": [
    "# draw_graph(o)"
   ]
  },
  {
   "cell_type": "code",
   "execution_count": null,
   "id": "2a71919c",
   "metadata": {},
   "outputs": [
    {
     "data": {
      "image/svg+xml": [
       "<?xml version=\"1.0\" encoding=\"UTF-8\" standalone=\"no\"?>\n",
       "<!DOCTYPE svg PUBLIC \"-//W3C//DTD SVG 1.1//EN\"\n",
       " \"http://www.w3.org/Graphics/SVG/1.1/DTD/svg11.dtd\">\n",
       "<!-- Generated by graphviz version 12.2.1 (20241206.2353)\n",
       " -->\n",
       "<!-- Pages: 1 -->\n",
       "<svg width=\"1736pt\" height=\"210pt\"\n",
       " viewBox=\"0.00 0.00 1735.82 210.00\" xmlns=\"http://www.w3.org/2000/svg\" xmlns:xlink=\"http://www.w3.org/1999/xlink\">\n",
       "<g id=\"graph0\" class=\"graph\" transform=\"scale(1 1) rotate(0) translate(4 206)\">\n",
       "<polygon fill=\"white\" stroke=\"none\" points=\"-4,4 -4,-206 1731.82,-206 1731.82,4 -4,4\"/>\n",
       "<!-- 5751324400 -->\n",
       "<g id=\"node1\" class=\"node\">\n",
       "<title>5751324400</title>\n",
       "<polygon fill=\"none\" stroke=\"black\" points=\"1474.57,-54.5 1474.57,-90.5 1727.82,-90.5 1727.82,-54.5 1474.57,-54.5\"/>\n",
       "<text text-anchor=\"middle\" x=\"1485.94\" y=\"-67.7\" font-family=\"Times,serif\" font-size=\"14.00\">o</text>\n",
       "<polyline fill=\"none\" stroke=\"black\" points=\"1497.32,-55 1497.32,-90.5\"/>\n",
       "<text text-anchor=\"middle\" x=\"1612.57\" y=\"-67.7\" font-family=\"Times,serif\" font-size=\"14.00\">data = &#45;0.9866142981514304 grad=1.0</text>\n",
       "</g>\n",
       "<!-- 5751324400_op -->\n",
       "<g id=\"node2\" class=\"node\">\n",
       "<title>5751324400_op</title>\n",
       "<ellipse fill=\"none\" stroke=\"black\" cx=\"1411.78\" cy=\"-72.5\" rx=\"26.78\" ry=\"26.78\"/>\n",
       "<text text-anchor=\"middle\" x=\"1411.78\" y=\"-67.45\" font-family=\"Times,serif\" font-size=\"14.00\">tanh</text>\n",
       "</g>\n",
       "<!-- 5751324400_op&#45;&gt;5751324400 -->\n",
       "<g id=\"edge1\" class=\"edge\">\n",
       "<title>5751324400_op&#45;&gt;5751324400</title>\n",
       "<path fill=\"none\" stroke=\"black\" d=\"M1438.84,-72.5C1445.99,-72.5 1454.27,-72.5 1463.22,-72.5\"/>\n",
       "<polygon fill=\"black\" stroke=\"black\" points=\"1462.93,-76 1472.93,-72.5 1462.93,-69 1462.93,-76\"/>\n",
       "</g>\n",
       "<!-- 5054147152 -->\n",
       "<g id=\"node3\" class=\"node\">\n",
       "<title>5054147152</title>\n",
       "<polygon fill=\"none\" stroke=\"black\" points=\"1089,-54.5 1089,-90.5 1349,-90.5 1349,-54.5 1089,-54.5\"/>\n",
       "<text text-anchor=\"middle\" x=\"1100.38\" y=\"-67.7\" font-family=\"Times,serif\" font-size=\"14.00\">y</text>\n",
       "<polyline fill=\"none\" stroke=\"black\" points=\"1111.75,-55 1111.75,-90.5\"/>\n",
       "<text text-anchor=\"middle\" x=\"1230.38\" y=\"-67.7\" font-family=\"Times,serif\" font-size=\"14.00\">data = &#45;2.5 grad=0.42859259246365944</text>\n",
       "</g>\n",
       "<!-- 5054147152&#45;&gt;5751324400_op -->\n",
       "<g id=\"edge14\" class=\"edge\">\n",
       "<title>5054147152&#45;&gt;5751324400_op</title>\n",
       "<path fill=\"none\" stroke=\"black\" d=\"M1349.37,-72.5C1357.9,-72.5 1366.02,-72.5 1373.39,-72.5\"/>\n",
       "<polygon fill=\"black\" stroke=\"black\" points=\"1373.15,-76 1383.15,-72.5 1373.15,-69 1373.15,-76\"/>\n",
       "</g>\n",
       "<!-- 5054147152_op -->\n",
       "<g id=\"node4\" class=\"node\">\n",
       "<title>5054147152_op</title>\n",
       "<ellipse fill=\"none\" stroke=\"black\" cx=\"1035\" cy=\"-72.5\" rx=\"18\" ry=\"18\"/>\n",
       "<text text-anchor=\"middle\" x=\"1035\" y=\"-67.45\" font-family=\"Times,serif\" font-size=\"14.00\">+</text>\n",
       "</g>\n",
       "<!-- 5054147152_op&#45;&gt;5054147152 -->\n",
       "<g id=\"edge2\" class=\"edge\">\n",
       "<title>5054147152_op&#45;&gt;5054147152</title>\n",
       "<path fill=\"none\" stroke=\"black\" d=\"M1053.45,-72.5C1060.03,-72.5 1068.14,-72.5 1077.2,-72.5\"/>\n",
       "<polygon fill=\"black\" stroke=\"black\" points=\"1077.17,-76 1087.17,-72.5 1077.17,-69 1077.17,-76\"/>\n",
       "</g>\n",
       "<!-- 5752421888 -->\n",
       "<g id=\"node5\" class=\"node\">\n",
       "<title>5752421888</title>\n",
       "<polygon fill=\"none\" stroke=\"black\" points=\"661,-82.5 661,-118.5 981,-118.5 981,-82.5 661,-82.5\"/>\n",
       "<text text-anchor=\"middle\" x=\"702.37\" y=\"-95.7\" font-family=\"Times,serif\" font-size=\"14.00\">x1w1_x2w2</text>\n",
       "<polyline fill=\"none\" stroke=\"black\" points=\"743.75,-83 743.75,-118.5\"/>\n",
       "<text text-anchor=\"middle\" x=\"862.37\" y=\"-95.7\" font-family=\"Times,serif\" font-size=\"14.00\">data = &#45;3.5 grad=0.42859259246365944</text>\n",
       "</g>\n",
       "<!-- 5752421888&#45;&gt;5054147152_op -->\n",
       "<g id=\"edge12\" class=\"edge\">\n",
       "<title>5752421888&#45;&gt;5054147152_op</title>\n",
       "<path fill=\"none\" stroke=\"black\" d=\"M961.93,-82.02C978.39,-79.85 993.62,-77.83 1005.81,-76.22\"/>\n",
       "<polygon fill=\"black\" stroke=\"black\" points=\"1005.95,-79.74 1015.41,-74.96 1005.03,-72.8 1005.95,-79.74\"/>\n",
       "</g>\n",
       "<!-- 5752421888_op -->\n",
       "<g id=\"node6\" class=\"node\">\n",
       "<title>5752421888_op</title>\n",
       "<ellipse fill=\"none\" stroke=\"black\" cx=\"607\" cy=\"-100.5\" rx=\"18\" ry=\"18\"/>\n",
       "<text text-anchor=\"middle\" x=\"607\" y=\"-95.45\" font-family=\"Times,serif\" font-size=\"14.00\">+</text>\n",
       "</g>\n",
       "<!-- 5752421888_op&#45;&gt;5752421888 -->\n",
       "<g id=\"edge3\" class=\"edge\">\n",
       "<title>5752421888_op&#45;&gt;5752421888</title>\n",
       "<path fill=\"none\" stroke=\"black\" d=\"M625.35,-100.5C631.96,-100.5 640.16,-100.5 649.43,-100.5\"/>\n",
       "<polygon fill=\"black\" stroke=\"black\" points=\"649.25,-104 659.25,-100.5 649.25,-97 649.25,-104\"/>\n",
       "</g>\n",
       "<!-- 5745567520 -->\n",
       "<g id=\"node7\" class=\"node\">\n",
       "<title>5745567520</title>\n",
       "<polygon fill=\"none\" stroke=\"black\" points=\"272,-110.5 272,-146.5 550.75,-146.5 550.75,-110.5 272,-110.5\"/>\n",
       "<text text-anchor=\"middle\" x=\"295\" y=\"-123.7\" font-family=\"Times,serif\" font-size=\"14.00\">x1w1</text>\n",
       "<polyline fill=\"none\" stroke=\"black\" points=\"318,-111 318,-146.5\"/>\n",
       "<text text-anchor=\"middle\" x=\"434.38\" y=\"-123.7\" font-family=\"Times,serif\" font-size=\"14.00\">data = 1.0 grad=0.42859259246365944</text>\n",
       "</g>\n",
       "<!-- 5745567520&#45;&gt;5752421888_op -->\n",
       "<g id=\"edge7\" class=\"edge\">\n",
       "<title>5745567520&#45;&gt;5752421888_op</title>\n",
       "<path fill=\"none\" stroke=\"black\" d=\"M540.18,-110.02C553.97,-108.02 566.83,-106.16 577.45,-104.63\"/>\n",
       "<polygon fill=\"black\" stroke=\"black\" points=\"577.93,-108.1 587.32,-103.2 576.93,-101.17 577.93,-108.1\"/>\n",
       "</g>\n",
       "<!-- 5745567520_op -->\n",
       "<g id=\"node8\" class=\"node\">\n",
       "<title>5745567520_op</title>\n",
       "<ellipse fill=\"none\" stroke=\"black\" cx=\"215.75\" cy=\"-128.5\" rx=\"18\" ry=\"18\"/>\n",
       "<text text-anchor=\"middle\" x=\"215.75\" y=\"-123.45\" font-family=\"Times,serif\" font-size=\"14.00\">*</text>\n",
       "</g>\n",
       "<!-- 5745567520_op&#45;&gt;5745567520 -->\n",
       "<g id=\"edge4\" class=\"edge\">\n",
       "<title>5745567520_op&#45;&gt;5745567520</title>\n",
       "<path fill=\"none\" stroke=\"black\" d=\"M233.93,-128.5C241.07,-128.5 250.06,-128.5 260.18,-128.5\"/>\n",
       "<polygon fill=\"black\" stroke=\"black\" points=\"260.06,-132 270.06,-128.5 260.06,-125 260.06,-132\"/>\n",
       "</g>\n",
       "<!-- 5751309952 -->\n",
       "<g id=\"node9\" class=\"node\">\n",
       "<title>5751309952</title>\n",
       "<polygon fill=\"none\" stroke=\"black\" points=\"9,-165.5 9,-201.5 152.75,-201.5 152.75,-165.5 9,-165.5\"/>\n",
       "<text text-anchor=\"middle\" x=\"23.75\" y=\"-178.7\" font-family=\"Times,serif\" font-size=\"14.00\">x1</text>\n",
       "<polyline fill=\"none\" stroke=\"black\" points=\"38.5,-166 38.5,-201.5\"/>\n",
       "<text text-anchor=\"middle\" x=\"95.62\" y=\"-178.7\" font-family=\"Times,serif\" font-size=\"14.00\">data = 2 grad=0.0</text>\n",
       "</g>\n",
       "<!-- 5751309952&#45;&gt;5745567520_op -->\n",
       "<g id=\"edge5\" class=\"edge\">\n",
       "<title>5751309952&#45;&gt;5745567520_op</title>\n",
       "<path fill=\"none\" stroke=\"black\" d=\"M139.88,-165.12C147.31,-162.41 154.76,-159.51 161.75,-156.5 171.13,-152.47 181.1,-147.41 189.84,-142.71\"/>\n",
       "<polygon fill=\"black\" stroke=\"black\" points=\"191.36,-145.87 198.43,-137.98 187.99,-139.74 191.36,-145.87\"/>\n",
       "</g>\n",
       "<!-- 5751311344 -->\n",
       "<g id=\"node10\" class=\"node\">\n",
       "<title>5751311344</title>\n",
       "<polygon fill=\"none\" stroke=\"black\" points=\"2.25,-110.5 2.25,-146.5 159.5,-146.5 159.5,-110.5 2.25,-110.5\"/>\n",
       "<text text-anchor=\"middle\" x=\"18.5\" y=\"-123.7\" font-family=\"Times,serif\" font-size=\"14.00\">w1</text>\n",
       "<polyline fill=\"none\" stroke=\"black\" points=\"34.75,-111 34.75,-146.5\"/>\n",
       "<text text-anchor=\"middle\" x=\"97.12\" y=\"-123.7\" font-family=\"Times,serif\" font-size=\"14.00\">data = 0.5 grad=0.0</text>\n",
       "</g>\n",
       "<!-- 5751311344&#45;&gt;5745567520_op -->\n",
       "<g id=\"edge6\" class=\"edge\">\n",
       "<title>5751311344&#45;&gt;5745567520_op</title>\n",
       "<path fill=\"none\" stroke=\"black\" d=\"M159.94,-128.5C169.28,-128.5 178.31,-128.5 186.24,-128.5\"/>\n",
       "<polygon fill=\"black\" stroke=\"black\" points=\"186.2,-132 196.2,-128.5 186.2,-125 186.2,-132\"/>\n",
       "</g>\n",
       "<!-- 5057353184 -->\n",
       "<g id=\"node11\" class=\"node\">\n",
       "<title>5057353184</title>\n",
       "<polygon fill=\"none\" stroke=\"black\" points=\"269.75,-55.5 269.75,-91.5 553,-91.5 553,-55.5 269.75,-55.5\"/>\n",
       "<text text-anchor=\"middle\" x=\"292.75\" y=\"-68.7\" font-family=\"Times,serif\" font-size=\"14.00\">x2w2</text>\n",
       "<polyline fill=\"none\" stroke=\"black\" points=\"315.75,-56 315.75,-91.5\"/>\n",
       "<text text-anchor=\"middle\" x=\"434.38\" y=\"-68.7\" font-family=\"Times,serif\" font-size=\"14.00\">data = &#45;4.5 grad=0.42859259246365944</text>\n",
       "</g>\n",
       "<!-- 5057353184&#45;&gt;5752421888_op -->\n",
       "<g id=\"edge11\" class=\"edge\">\n",
       "<title>5057353184&#45;&gt;5752421888_op</title>\n",
       "<path fill=\"none\" stroke=\"black\" d=\"M545,-91.99C556.98,-93.66 568.1,-95.21 577.48,-96.52\"/>\n",
       "<polygon fill=\"black\" stroke=\"black\" points=\"576.84,-99.97 587.23,-97.88 577.81,-93.04 576.84,-99.97\"/>\n",
       "</g>\n",
       "<!-- 5057353184_op -->\n",
       "<g id=\"node12\" class=\"node\">\n",
       "<title>5057353184_op</title>\n",
       "<ellipse fill=\"none\" stroke=\"black\" cx=\"215.75\" cy=\"-73.5\" rx=\"18\" ry=\"18\"/>\n",
       "<text text-anchor=\"middle\" x=\"215.75\" y=\"-68.45\" font-family=\"Times,serif\" font-size=\"14.00\">*</text>\n",
       "</g>\n",
       "<!-- 5057353184_op&#45;&gt;5057353184 -->\n",
       "<g id=\"edge8\" class=\"edge\">\n",
       "<title>5057353184_op&#45;&gt;5057353184</title>\n",
       "<path fill=\"none\" stroke=\"black\" d=\"M233.93,-73.5C240.59,-73.5 248.85,-73.5 258.13,-73.5\"/>\n",
       "<polygon fill=\"black\" stroke=\"black\" points=\"257.96,-77 267.96,-73.5 257.96,-70 257.96,-77\"/>\n",
       "</g>\n",
       "<!-- 5751310768 -->\n",
       "<g id=\"node13\" class=\"node\">\n",
       "<title>5751310768</title>\n",
       "<polygon fill=\"none\" stroke=\"black\" points=\"9,-55.5 9,-91.5 152.75,-91.5 152.75,-55.5 9,-55.5\"/>\n",
       "<text text-anchor=\"middle\" x=\"23.75\" y=\"-68.7\" font-family=\"Times,serif\" font-size=\"14.00\">x2</text>\n",
       "<polyline fill=\"none\" stroke=\"black\" points=\"38.5,-56 38.5,-91.5\"/>\n",
       "<text text-anchor=\"middle\" x=\"95.62\" y=\"-68.7\" font-family=\"Times,serif\" font-size=\"14.00\">data = 3 grad=0.0</text>\n",
       "</g>\n",
       "<!-- 5751310768&#45;&gt;5057353184_op -->\n",
       "<g id=\"edge9\" class=\"edge\">\n",
       "<title>5751310768&#45;&gt;5057353184_op</title>\n",
       "<path fill=\"none\" stroke=\"black\" d=\"M152.98,-73.5C164.61,-73.5 176.04,-73.5 185.85,-73.5\"/>\n",
       "<polygon fill=\"black\" stroke=\"black\" points=\"185.79,-77 195.79,-73.5 185.79,-70 185.79,-77\"/>\n",
       "</g>\n",
       "<!-- 5746055872 -->\n",
       "<g id=\"node14\" class=\"node\">\n",
       "<title>5746055872</title>\n",
       "<polygon fill=\"none\" stroke=\"black\" points=\"0,-0.5 0,-36.5 161.75,-36.5 161.75,-0.5 0,-0.5\"/>\n",
       "<text text-anchor=\"middle\" x=\"16.25\" y=\"-13.7\" font-family=\"Times,serif\" font-size=\"14.00\">w2</text>\n",
       "<polyline fill=\"none\" stroke=\"black\" points=\"32.5,-1 32.5,-36.5\"/>\n",
       "<text text-anchor=\"middle\" x=\"97.12\" y=\"-13.7\" font-family=\"Times,serif\" font-size=\"14.00\">data = &#45;1.5 grad=0.0</text>\n",
       "</g>\n",
       "<!-- 5746055872&#45;&gt;5057353184_op -->\n",
       "<g id=\"edge10\" class=\"edge\">\n",
       "<title>5746055872&#45;&gt;5057353184_op</title>\n",
       "<path fill=\"none\" stroke=\"black\" d=\"M139.88,-36.88C147.31,-39.59 154.76,-42.49 161.75,-45.5 171.13,-49.53 181.1,-54.59 189.84,-59.29\"/>\n",
       "<polygon fill=\"black\" stroke=\"black\" points=\"187.99,-62.26 198.43,-64.02 191.36,-56.13 187.99,-62.26\"/>\n",
       "</g>\n",
       "<!-- 5751335264 -->\n",
       "<g id=\"node15\" class=\"node\">\n",
       "<title>5751335264</title>\n",
       "<polygon fill=\"none\" stroke=\"black\" points=\"698.5,-27.5 698.5,-63.5 943.5,-63.5 943.5,-27.5 698.5,-27.5\"/>\n",
       "<text text-anchor=\"middle\" x=\"709.87\" y=\"-40.7\" font-family=\"Times,serif\" font-size=\"14.00\">b</text>\n",
       "<polyline fill=\"none\" stroke=\"black\" points=\"721.25,-28 721.25,-63.5\"/>\n",
       "<text text-anchor=\"middle\" x=\"832.37\" y=\"-40.7\" font-family=\"Times,serif\" font-size=\"14.00\">data = 1 grad=0.42859259246365944</text>\n",
       "</g>\n",
       "<!-- 5751335264&#45;&gt;5054147152_op -->\n",
       "<g id=\"edge13\" class=\"edge\">\n",
       "<title>5751335264&#45;&gt;5054147152_op</title>\n",
       "<path fill=\"none\" stroke=\"black\" d=\"M943.79,-61.01C966.95,-63.96 989.09,-66.78 1005.64,-68.89\"/>\n",
       "<polygon fill=\"black\" stroke=\"black\" points=\"1004.77,-72.31 1015.14,-70.1 1005.66,-65.36 1004.77,-72.31\"/>\n",
       "</g>\n",
       "</g>\n",
       "</svg>\n"
      ],
      "text/plain": [
       "<graphviz.graphs.Digraph at 0x156db3470>"
      ]
     },
     "execution_count": 693,
     "metadata": {},
     "output_type": "execute_result"
    }
   ],
   "source": [
    "x1w1_x2w2.grad = y.grad\n",
    "b.grad = y.grad\n",
    "x1w1.grad = x1w1_x2w2.grad\n",
    "x2w2.grad = x1w1_x2w2.grad\n",
    "\n",
    "# draw_graph(o)"
   ]
  },
  {
   "cell_type": "code",
   "execution_count": 694,
   "id": "ef9473d6",
   "metadata": {},
   "outputs": [],
   "source": [
    "x1.grad = x1w1.grad * w1.data\n",
    "x2.grad = x2w2.grad * w2.data\n",
    "w1.grad = x1w1.grad * x1.data\n",
    "w2.grad = x2w2.grad * x2.data\n",
    "\n",
    "# draw_graph(o)"
   ]
  },
  {
   "cell_type": "code",
   "execution_count": 716,
   "id": "d7edad4e",
   "metadata": {},
   "outputs": [],
   "source": [
    "# Implement generic backpropagation\n",
    "class Value():\n",
    "    \"\"\" Complete class with backprop to represent a scale value with arithmeti operations and gradients. \"\"\"\n",
    "    def __init__(self, data, _children=(), _op = '', grad=0.0, label=\"\"):\n",
    "        self.data = data\n",
    "        self._prev = _children\n",
    "        self._op = _op\n",
    "        self.label = label\n",
    "        self.grad = 0.0  # Gradient initialized to zero\n",
    "        self.label = \"\"\n",
    "\n",
    "    def backward(self, root_node, visited=None):\n",
    "        visited.add(self)\n",
    "        logger.debug(f\"node.data = {self.data}\")\n",
    "        self._backward()  # Compute the gradient for childeren of this node\n",
    "        for item in self._prev:\n",
    "            if item not in visited:\n",
    "                item.backward(root_node, visited)\n",
    "\n",
    "    def _backward(self):\n",
    "        \"\"\" Perform backpropagation to compute gradients. \"\"\"\n",
    "        logger.debug(f\"Backward pass for node: {self.label}, op: {self._op}, data: {self.data}, grad: {self.grad}\")\n",
    "        # For addition operation, local gradient is 1 for each child hence gradient of the child with respect\n",
    "        # to the output is 1 * self gradient.\n",
    "        # Note, we need to accumulate gradients for each child and not simply overwrite them.\n",
    "        if self._op == '+':\n",
    "            for child in self._prev:\n",
    "                child.grad += self.grad\n",
    "\n",
    "        # For multiplication operation, local gradient is the value of the other child hence\n",
    "        # gradient of the child with respect to the output is self.grad * other child's value.\n",
    "        elif self._op == '*':\n",
    "            self._prev[0].grad = self.grad * self._prev[1].data\n",
    "            self._prev[1].grad = self.grad * self._prev[0].data\n",
    "\n",
    "        elif self._op == '/':\n",
    "            # For division operation, local gradient is 1 / other child's value hence\n",
    "            # gradient of the child with respect to the output is self.grad * (1 / other child's value).\n",
    "            self._prev[0].grad = self.grad / self._prev[1].data\n",
    "            self._prev[1].grad = -self.grad * (self._prev[0].data / (self._prev[1].data ** 2))\n",
    "\n",
    "        # For power operation, local gradient is power * base^(power-1) hence\n",
    "        # gradient of the child with respect to the output is self.grad * local gradient.\n",
    "        elif self._op == '**':\n",
    "            power = self._prev[0].data\n",
    "            base = self.data\n",
    "            self._prev[0].grad = self.grad * power * (base ** (power - 1))\n",
    "\n",
    "        # For subtraction operation, local gradient is 1 for the first child and -1 for the second child\n",
    "        # hence gradient of the first child with respect to the output is self.grad * 1 and for the second child\n",
    "        # it is self.grad * -1.\n",
    "        elif self._op == '-':\n",
    "            self._prev[0].grad = self.grad  # First child\n",
    "            self._prev[1].grad = -self.grad  # Second child\n",
    "\n",
    "        # For tanh operation, local gradient is 1 - tanh^2(self.data) hence\n",
    "        # gradient of the child with respect to the output is self.grad * local gradient.\n",
    "        elif self._op == 'tanh':\n",
    "            logger.debug(f\"tanh: self.data = {self.data}, self.grad = {self.grad}\")\n",
    "            self._prev[0].grad = self.grad * (1 - np.tanh(self._prev[0].data)**2)\n",
    "\n",
    "    def __repr__(self):\n",
    "        return f\"Value(data={self.data})\"\n",
    "    \n",
    "    def __add__(self, other):\n",
    "        if not isinstance(other, Value):\n",
    "            other = Value(other)  # Convert to Value if not already\n",
    "        return Value(self.data + other.data, _children=(self, other), _op='+')\n",
    "\n",
    "    def __radd__(self, other):\n",
    "        if not isinstance(other, Value):\n",
    "            other = Value(other)  # Convert to Value if not already\n",
    "        return Value(self.data + other.data, _children=(self, other), _op='+')\n",
    "    \n",
    "    def __sub__(self, other):\n",
    "        if isinstance(other, Value):\n",
    "            return Value(self.data - other.data, _children=(self, other), _op='-')\n",
    "        else:\n",
    "            raise ValueError(\"Can only subtract Value from Value\")\n",
    "        \n",
    "    def __mul__(self, other):\n",
    "        if isinstance(other, Value):\n",
    "            return Value(self.data * other.data, _children=(self, other), _op='*')\n",
    "        else:\n",
    "            raise ValueError(\"Can only multiply Value to Value\")\n",
    "        \n",
    "    def __truediv__(self, other):\n",
    "        if not isinstance(other, Value):\n",
    "            other = Value(other)  # Convert to Value if not already\n",
    "        return Value(self.data / other.data, _children=(self, other), _op='/')\n",
    "\n",
    "    def __rtruediv__(self, other):\n",
    "        if not isinstance(other, Value):\n",
    "            other = Value(other)  # Convert to Value if not already\n",
    "        return Value(self.data / other.data, _children=(self, other), _op='/')\n",
    "        \n",
    "    def __pow__(self, power):\n",
    "        return Value(self.data ** power, _children=(self,), _op='**')\n",
    "        \n",
    "    def tanh(self):\n",
    "        return Value((np.exp(self.data*2) - 1)/(np.exp(self.data*2) + 1), _op='tanh', _children=(self,))"
   ]
  },
  {
   "cell_type": "code",
   "execution_count": 717,
   "id": "de7dc407",
   "metadata": {},
   "outputs": [],
   "source": [
    "# Forward pass for neural network with one neuron\n",
    "# Inputs: x1, x2; Weights: w1, w2; Bias: b; Output: y\n",
    "\n",
    "x1 = Value(2, label=\"x1\")\n",
    "x2 = Value(3, label=\"x2\")\n",
    "w1 = Value(0.5, label=\"w1\")\n",
    "w2 = Value(-1.5, label=\"w2\")\n",
    "b = Value(1, label=\"b\")\n",
    "x1w1 = x1 * w1; x1w1.label = \"x1w1\"\n",
    "x2w2 = x2 * w2; x2w2.label = \"x2w2\"\n",
    "x1w1_x2w2 = x1w1 + x2w2; x1w1_x2w2.label = \"x1w1_x2w2\"\n",
    "y = x1w1_x2w2 + b; y.label = \"y\"\n",
    "o = y.tanh(); o.label = \"o\""
   ]
  },
  {
   "cell_type": "code",
   "execution_count": 718,
   "id": "b1415a32",
   "metadata": {},
   "outputs": [],
   "source": [
    "# draw_graph(o)"
   ]
  },
  {
   "cell_type": "code",
   "execution_count": 719,
   "id": "65eb5846",
   "metadata": {},
   "outputs": [],
   "source": [
    "# Perform backpropagation\n",
    "o.grad = 1.0  # Set the gradient of the output to 1.0\n",
    "\n",
    "visited = set()\n",
    "o.backward(o, visited)"
   ]
  },
  {
   "cell_type": "code",
   "execution_count": 720,
   "id": "b9b0f81b",
   "metadata": {},
   "outputs": [],
   "source": [
    "# draw_graph(o)"
   ]
  },
  {
   "cell_type": "code",
   "execution_count": 721,
   "id": "160da944",
   "metadata": {},
   "outputs": [
    {
     "name": "stdout",
     "output_type": "stream",
     "text": [
      "o = -0.9866142868995667\n"
     ]
    }
   ],
   "source": [
    "# Verfiy with PyTorch\n",
    "# Forward pass for neural network with one neuron\n",
    "# Inputs: x1, x2; Weights: w1, w2; Bias: b; Output: y\n",
    "\n",
    "import torch\n",
    "\n",
    "x1 = torch.Tensor([2.0])\n",
    "x2 = torch.Tensor([3.0])\n",
    "w1 = torch.Tensor([0.5])\n",
    "w2 = torch.Tensor([-1.5])\n",
    "b = torch.Tensor([1.0])\n",
    "x1.requires_grad = True\n",
    "x2.requires_grad = True\n",
    "w1.requires_grad = True\n",
    "w2.requires_grad = True\n",
    "b.requires_grad = True\n",
    "\n",
    "y = x1 * w1 + x2 * w2 + b\n",
    "o = torch.tanh(y)\n",
    "\n",
    "print(f\"o = {o.item()}\")\n",
    "\n",
    "o.backward()  # Perform backpropagation"
   ]
  },
  {
   "cell_type": "code",
   "execution_count": 722,
   "id": "182b150b",
   "metadata": {},
   "outputs": [
    {
     "name": "stdout",
     "output_type": "stream",
     "text": [
      "x1.grad = 0.013296124525368214\n",
      "x2.grad = -0.039888374507427216\n",
      "w1.grad = 0.053184498101472855\n",
      "w2.grad = 0.07977674901485443\n",
      "b.grad = 0.026592249050736427\n"
     ]
    }
   ],
   "source": [
    "print(f\"x1.grad = {x1.grad.item()}\") \n",
    "print(f\"x2.grad = {x2.grad.item()}\") \n",
    "print(f\"w1.grad = {w1.grad.item()}\")\n",
    "print(f\"w2.grad = {w2.grad.item()}\")\n",
    "print(f\"b.grad = {b.grad.item()}\")"
   ]
  },
  {
   "cell_type": "code",
   "execution_count": 723,
   "id": "f1702ff9",
   "metadata": {},
   "outputs": [],
   "source": [
    "import random\n",
    "\n",
    "class N():\n",
    "    \"\"\" Class to represent a single neuron with forward and backward pass. \"\"\"\n",
    "    def __init__(self, input_size):\n",
    "        self.input_size = input_size\n",
    "        self.weights = [Value(random.uniform(-1, 1)) for _ in range(input_size)]\n",
    "        self.b = Value(random.uniform(-1, 1))  # Bias term\n",
    "    \n",
    "    def parameters(self):\n",
    "        return self.weights + [self.b]  # Return all parameters (weights and bias)\n",
    "    \n",
    "    def __call__(self, input) -> Value:\n",
    "        \"\"\" Forward pass for the neuron. \"\"\"\n",
    "        wx = [w*x for w, x in zip(self.weights, input)]\n",
    "        wx_sum = Value(0.0)  # Initialize sum of weighted inputs\n",
    "        for item in wx:\n",
    "            wx_sum += item  # Sum the weighted inputs\n",
    "\n",
    "        wx_sum = wx_sum + self.b\n",
    "        return wx_sum.tanh()\n",
    "        "
   ]
  },
  {
   "cell_type": "code",
   "execution_count": 724,
   "id": "95f55a90",
   "metadata": {},
   "outputs": [
    {
     "name": "stdout",
     "output_type": "stream",
     "text": [
      "o = 0.9990284685477849\n"
     ]
    }
   ],
   "source": [
    "n = N(2)  # Create a neuron with 2 inputs\n",
    "x1 = Value(2, label=\"x1\")\n",
    "x2 = Value(3, label=\"x2\")\n",
    "\n",
    "o = n([x1, x2])\n",
    "print(f\"o = {o.data}\")"
   ]
  },
  {
   "cell_type": "code",
   "execution_count": 725,
   "id": "f5d28c80",
   "metadata": {},
   "outputs": [],
   "source": [
    "class Layer():\n",
    "    \"\"\" Class to represent a layer of neurons. \"\"\"\n",
    "    def __init__(self, layer_size, input_size):\n",
    "        self.layer_size = layer_size\n",
    "        self.neurons = [N(input_size) for _ in range(layer_size)]\n",
    "    \n",
    "    def parameters(self):\n",
    "        parameters = []\n",
    "        for n in self.neurons:\n",
    "            parameters.extend(n.parameters())  # Collect parameters from each neuron\n",
    "        return parameters\n",
    "            \n",
    "    def __call__(self, input):\n",
    "        \"\"\" Forward pass for the layer. \"\"\"\n",
    "        outputs = [n(input) for n in self.neurons]\n",
    "        return outputs"
   ]
  },
  {
   "cell_type": "code",
   "execution_count": 726,
   "id": "29894ac6",
   "metadata": {},
   "outputs": [],
   "source": [
    "class NN():\n",
    "    \"\"\" Class to represent a simple neural network with hidden layers. \"\"\"\n",
    "    def __init__(self, input_size: int, \n",
    "                 hidden_layer_num: int, \n",
    "                 hidden_layer_size: int, \n",
    "                 output_size: int):\n",
    "        self.input_size = input_size\n",
    "        self.hidden_layer_num = hidden_layer_num\n",
    "        self.output_size = output_size\n",
    "        self.hidden_layer_size = hidden_layer_size\n",
    "\n",
    "        self.layers = []\n",
    "        for i in range(hidden_layer_num):\n",
    "            if i == hidden_layer_num - 1:\n",
    "                # Last layer is the output layer, use output_size\n",
    "                self.layers.append(Layer(output_size, input_size))\n",
    "            else:\n",
    "                self.layers.append(Layer(hidden_layer_size, input_size))\n",
    "\n",
    "    def parameters(self):\n",
    "        parameters = []\n",
    "        for layer in self.layers:\n",
    "            parameters.extend(layer.parameters())  # Collect parameters from each layer\n",
    "        return parameters\n",
    "\n",
    "    def __call__(self, input):\n",
    "        \"\"\" Forward pass for the neural network. \"\"\"\n",
    "        assert len(input) == self.input_size, \"input size mismatch\"\n",
    "        input = [Value(x) for x in input]\n",
    "        \n",
    "        layer_output = None\n",
    "        for i, layer in enumerate(self.layers):\n",
    "            if i == 0:\n",
    "                # First layer takes the input directly\n",
    "                layer_output = layer(input)\n",
    "            else:\n",
    "                # Subsequent layers take the output of the previous layer\n",
    "                layer_output = layer(layer_output)\n",
    "\n",
    "        return layer_output"
   ]
  },
  {
   "cell_type": "code",
   "execution_count": 727,
   "id": "7e307dd5",
   "metadata": {},
   "outputs": [],
   "source": [
    "nn = NN(input_size=3, hidden_layer_num=2, hidden_layer_size=3, output_size=1)  # Create a neural network with 2 inputs, 2 hidden layers of size 3, and 1 output "
   ]
  },
  {
   "cell_type": "code",
   "execution_count": 728,
   "id": "b87ae772",
   "metadata": {},
   "outputs": [
    {
     "name": "stdout",
     "output_type": "stream",
     "text": [
      "model information:\n",
      "total model layers: 2\n",
      "[0] layer size: 3, input size: 3, neurons: 3\n",
      "[1] layer size: 1, input size: 3, neurons: 1\n",
      "total model parameters: 16\n"
     ]
    }
   ],
   "source": [
    "print(\"model information:\")\n",
    "print(f\"total model layers: {len(nn.layers)}\")\n",
    "for i, layer in enumerate(nn.layers):\n",
    "    print(f\"[{i}] layer size: {layer.layer_size}, input size: {layer.neurons[0].input_size}, neurons: {len(layer.neurons)}\")\n",
    "print(f\"total model parameters: {len(nn.parameters())}\")"
   ]
  },
  {
   "cell_type": "code",
   "execution_count": 729,
   "id": "3a955a7d",
   "metadata": {},
   "outputs": [
    {
     "name": "stdout",
     "output_type": "stream",
     "text": [
      "Output of the neural network: [0.1080010283530053]\n"
     ]
    }
   ],
   "source": [
    "input = [1.0, 2.0, 3.0]  # Example input\n",
    "output = nn(input)  # Forward pass through the neural network\n",
    "\n",
    "print(f\"Output of the neural network: {[o.data for o in output]}\")"
   ]
  },
  {
   "cell_type": "code",
   "execution_count": 730,
   "id": "bd430978",
   "metadata": {},
   "outputs": [],
   "source": [
    "x = [\n",
    "    [2.0, 3.0, -1.0],\n",
    "    [3.0, -1.0, 0.5],\n",
    "    [0.5, 1.0, 1.0],\n",
    "    [1.0, 1.0, -1.0]\n",
    "]\n",
    "\n",
    "y = [1.0, -1.0, -1.0, 1.0]  # Example labels"
   ]
  },
  {
   "cell_type": "code",
   "execution_count": 731,
   "id": "ae886b37",
   "metadata": {},
   "outputs": [],
   "source": [
    "y_preds = [nn(i)[0] for i in x]"
   ]
  },
  {
   "cell_type": "code",
   "execution_count": 732,
   "id": "bdee6bcb",
   "metadata": {},
   "outputs": [
    {
     "name": "stdout",
     "output_type": "stream",
     "text": [
      "Predictions: [0.06712271803217608, 0.8966946660706241, 0.447304595139257, 0.6329504609226184]\n"
     ]
    }
   ],
   "source": [
    "print(f\"Predictions: {[item.data for item in y_preds]}\")"
   ]
  },
  {
   "cell_type": "code",
   "execution_count": 733,
   "id": "014ec9cf",
   "metadata": {},
   "outputs": [],
   "source": [
    "def loss_fn(y_preds, y_true):\n",
    "    \"\"\"Mean squared error loss function.\"\"\"\n",
    "    loss = [(i**2 - j**2) for i, j in zip(y_preds, y_true)]\n",
    "    loss = sum(loss)\n",
    "\n",
    "    return loss / len(y_preds)"
   ]
  },
  {
   "cell_type": "code",
   "execution_count": 734,
   "id": "934b6575",
   "metadata": {},
   "outputs": [
    {
     "name": "stdout",
     "output_type": "stream",
     "text": [
      "y_preds = [0.06712271803217608, 0.8966946660706241, 0.447304595139257, 0.6329504609226184]\n",
      "y_true = [1.0, -1.0, -1.0, 1.0]\n",
      "Loss: -0.6476813824374038\n"
     ]
    }
   ],
   "source": [
    "y_true = [Value(i) for i in y]  # Convert labels to Value objects\n",
    "print(f\"y_preds = {[i.data for i in y_preds]}\")\n",
    "print(f\"y_true = {[i.data for i in y_true]}\")\n",
    "loss = loss_fn(y_preds, y_true)\n",
    "print(f\"Loss: {loss.data}\")"
   ]
  },
  {
   "cell_type": "code",
   "execution_count": 735,
   "id": "3f15f7c7",
   "metadata": {},
   "outputs": [],
   "source": [
    "loss.grad = 1.0  # Set the gradient of the loss to 1.0\n",
    "visited = set()\n",
    "loss.backward(loss, visited)"
   ]
  },
  {
   "cell_type": "code",
   "execution_count": 736,
   "id": "3d011511",
   "metadata": {},
   "outputs": [],
   "source": [
    "# draw_graph(loss)"
   ]
  },
  {
   "cell_type": "code",
   "execution_count": 737,
   "id": "fa79ca87",
   "metadata": {},
   "outputs": [],
   "source": [
    "for param in nn.parameters():\n",
    "    param.data = param.data - 0.001 * param.grad  # Update parameters using gradient descent"
   ]
  },
  {
   "cell_type": "code",
   "execution_count": 738,
   "id": "5657f436",
   "metadata": {},
   "outputs": [],
   "source": [
    "y_preds = [nn(i)[0] for i in x]"
   ]
  },
  {
   "cell_type": "code",
   "execution_count": 739,
   "id": "e21ce102",
   "metadata": {},
   "outputs": [
    {
     "name": "stdout",
     "output_type": "stream",
     "text": [
      "Loss: -0.649468019685703\n"
     ]
    }
   ],
   "source": [
    "loss = loss_fn(y_preds, y_true)\n",
    "print(f\"Loss: {loss.data}\")"
   ]
  },
  {
   "cell_type": "code",
   "execution_count": 740,
   "id": "f4b8b6f1",
   "metadata": {},
   "outputs": [
    {
     "name": "stdout",
     "output_type": "stream",
     "text": [
      "Epoch 1/10, Loss: -0.649468019685703\n",
      "Epoch 2/10, Loss: -0.6529756438263243\n",
      "Epoch 3/10, Loss: -0.6583737149158561\n",
      "Epoch 4/10, Loss: -0.6660238302446786\n",
      "Epoch 5/10, Loss: -0.6768674571172512\n",
      "Epoch 6/10, Loss: -0.6967283565171443\n",
      "Epoch 7/10, Loss: -0.7111270154702596\n",
      "Epoch 8/10, Loss: -0.7226997228877843\n",
      "Epoch 9/10, Loss: -0.7323155827689879\n",
      "Epoch 10/10, Loss: -0.7404522681975103\n"
     ]
    }
   ],
   "source": [
    "# Run model training for multiple epochs\n",
    "epochs = 10\n",
    "learning_rate = 0.001\n",
    "\n",
    "for epoch in range(epochs):\n",
    "    y_preds = [nn(i)[0] for i in x]  # Forward pass through the neural network\n",
    "    loss = loss_fn(y_preds, y_true)\n",
    "    print(f\"Epoch {epoch+1}/{epochs}, Loss: {loss.data}\")\n",
    "    \n",
    "    loss.grad = 1.0  # Set the gradient of the loss to 1.0\n",
    "    visited = set()\n",
    "    loss.backward(loss, visited)\n",
    "    for param in nn.parameters():\n",
    "        param.data = param.data - learning_rate * param.grad  # Update parameters using gradient descent"
   ]
  },
  {
   "cell_type": "code",
   "execution_count": 647,
   "id": "62fd9d9c",
   "metadata": {},
   "outputs": [
    {
     "name": "stdout",
     "output_type": "stream",
     "text": [
      "y_preds after training: [0.9606345709131762, 0.9737648203903666, 0.8310004943519919, 0.9546225261915703]\n",
      "y_true after training: [1.0, -1.0, -1.0, 1.0]\n"
     ]
    }
   ],
   "source": [
    "print(f\"y_preds after training: {[item.data for item in y_preds]}\")\n",
    "print(f\"y_true after training: {[item.data for item in y_true]}\")"
   ]
  },
  {
   "cell_type": "code",
   "execution_count": null,
   "id": "08b99310",
   "metadata": {},
   "outputs": [],
   "source": []
  },
  {
   "cell_type": "code",
   "execution_count": null,
   "id": "2e370b63",
   "metadata": {},
   "outputs": [],
   "source": []
  }
 ],
 "metadata": {
  "kernelspec": {
   "display_name": "berkeley_ai",
   "language": "python",
   "name": "python3"
  },
  "language_info": {
   "codemirror_mode": {
    "name": "ipython",
    "version": 3
   },
   "file_extension": ".py",
   "mimetype": "text/x-python",
   "name": "python",
   "nbconvert_exporter": "python",
   "pygments_lexer": "ipython3",
   "version": "3.12.9"
  }
 },
 "nbformat": 4,
 "nbformat_minor": 5
}
